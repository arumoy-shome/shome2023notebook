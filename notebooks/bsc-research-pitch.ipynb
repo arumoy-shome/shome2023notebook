{
 "cells": [
  {
   "cell_type": "markdown",
   "metadata": {},
   "source": [
    "# Automating Insight Extraction from ML Visual Data (with Large Language Models)"
   ]
  },
  {
   "cell_type": "markdown",
   "metadata": {},
   "source": [
    "## Introduction\n",
    "\n",
    "+ visualisations as a tool to \"test\" visual properties of ML pipelines (data, model)\n",
    "\n",
    "![](../catalogue/select-04-linear.png)\n",
    "![](../catalogue/select-04-rbf.png)\n",
    "+ ...but data changes as a reflection of real-world\n",
    "+ visual properties observed become **implicit expectations**\n",
    "+ `assert` statements to define **explicit expectations**\n",
    "\n",
    "![](../catalogue/select-12.png)\n",
    "\n",
    "```python\n",
    "assert np.mean(history[:10]) >np.mean(history[-10:]), \"RNN didn't converge\"\n",
    "```"
   ]
  },
  {
   "cell_type": "markdown",
   "metadata": {},
   "source": [
    "## The Data\n",
    "\n",
    "We mined **Jupyter Notebooks** from:\n",
    "+ Github: 52K (35GB)\n",
    "+ Kaggle: 250K (252GB)\n",
    "\n"
   ]
  },
  {
   "cell_type": "code",
   "execution_count": 1,
   "metadata": {},
   "outputs": [
    {
     "name": "stdout",
     "output_type": "stream",
     "text": [
      "3.8G\tdata/shome2023notebook/quaranta2021kgtorrent\n",
      "4.2G\tdata/shome2023notebook/assert_notebooks\n"
     ]
    }
   ],
   "source": [
    "%%bash\n",
    "(\n",
    "    cd ~/phd/shome2023notebook\n",
    "    find data/shome2023notebook -type d -depth 1 -not -path \"*mondal2023cell2doc*\" -exec du -h -d 0 {} \\;\n",
    ")"
   ]
  },
  {
   "cell_type": "markdown",
   "metadata": {},
   "source": [
    "+ extract **contents** of code cells with `assert` keyword\n",
    "+ extract **context** of code cells with `assert` keyword\n",
    "+ compute high-level descriptive statistics of notebooks\n",
    "+ extract **content** and **output** of all cells that produce a visualisation\n",
    "\n",
    "## Enough talk, show me the data!"
   ]
  },
  {
   "cell_type": "code",
   "execution_count": 9,
   "metadata": {},
   "outputs": [],
   "source": [
    "import pandas as pd\n",
    "\n",
    "github_stats = pd.read_csv(\n",
    "    \"shome2023notebook/github-stats.csv\",\n",
    "    header=None,\n",
    "    names=[\"notebook\", \"num_code_cells\", \"num_md_cells\", \"num_assert_cells\"],\n",
    ")\n",
    "github_visualisations = pd.read_csv(\n",
    "    \"shome2023notebook/github-visualisations.csv\",\n",
    "    header=None,\n",
    "    names=[\"notebook\", \"image/png\"]\n",
    ")\n",
    "\n",
    "github_assert_content = pd.read_csv(\n",
    "    \"shome2023notebook/github-assert-content.csv\",\n",
    "    header=None,\n",
    "    names=[\"cell_type\", \"source\", \"notebook\"],\n",
    ")\n",
    "github_assert_context = pd.read_csv(\n",
    "    \"shome2023notebook/github-assert-context.csv\",\n",
    "    header=None,\n",
    "    names=[\"cell_type\", \"source\", \"notebook\", \"location\", \"assert_cell_index\"]\n",
    ")\n",
    "\n",
    "kaggle_stats = pd.read_csv(\n",
    "    \"shome2023notebook/quaranta2021kgtorrent-stats.csv\",\n",
    "    header=None,\n",
    "    names=[\"notebook\", \"num_code_cells\", \"num_md_cells\", \"num_assert_cells\"],\n",
    ")\n",
    "kaggle_visualisations = pd.read_csv(\n",
    "    \"shome2023notebook/quaranta2021kgtorrent-visualisations.csv\",\n",
    "    header=None,\n",
    "    names=[\"notebook\", \"image/png\"]\n",
    ")\n",
    "kaggle_assert_content = pd.read_csv(\n",
    "    \"shome2023notebook/quaranta2021kgtorrent-assert-content.csv\",\n",
    "    header=None,\n",
    "    names=[\"cell_type\", \"source\", \"notebook\"],\n",
    ")\n",
    "kaggle_assert_context = pd.read_csv(\n",
    "    \"shome2023notebook/quaranta2021kgtorrent-assert-context.csv\",\n",
    "    header=None,\n",
    "    names=[\"cell_type\", \"source\", \"notebook\", \"location\", \"assert_cell_index\"]\n",
    ")\n",
    "\n",
    "stats = pd.concat([github_stats, kaggle_stats])\n",
    "visualisations = pd.concat([github_visualisations, kaggle_visualisations])\n",
    "assert_content = pd.concat([github_assert_content, kaggle_assert_content])\n",
    "assert_context = pd.concat([github_assert_context, kaggle_assert_context])"
   ]
  },
  {
   "cell_type": "code",
   "execution_count": 10,
   "metadata": {},
   "outputs": [
    {
     "data": {
      "text/html": [
       "<div>\n",
       "<style scoped>\n",
       "    .dataframe tbody tr th:only-of-type {\n",
       "        vertical-align: middle;\n",
       "    }\n",
       "\n",
       "    .dataframe tbody tr th {\n",
       "        vertical-align: top;\n",
       "    }\n",
       "\n",
       "    .dataframe thead th {\n",
       "        text-align: right;\n",
       "    }\n",
       "</style>\n",
       "<table border=\"1\" class=\"dataframe\">\n",
       "  <thead>\n",
       "    <tr style=\"text-align: right;\">\n",
       "      <th></th>\n",
       "      <th>notebook</th>\n",
       "      <th>num_code_cells</th>\n",
       "      <th>num_md_cells</th>\n",
       "      <th>num_assert_cells</th>\n",
       "    </tr>\n",
       "  </thead>\n",
       "  <tbody>\n",
       "    <tr>\n",
       "      <th>0</th>\n",
       "      <td>data/assert_notebooks/tanmay2298/Advanced-Mach...</td>\n",
       "      <td>33</td>\n",
       "      <td>12</td>\n",
       "      <td>1</td>\n",
       "    </tr>\n",
       "    <tr>\n",
       "      <th>1</th>\n",
       "      <td>data/assert_notebooks/tanmay2298/Advanced-Mach...</td>\n",
       "      <td>20</td>\n",
       "      <td>13</td>\n",
       "      <td>8</td>\n",
       "    </tr>\n",
       "    <tr>\n",
       "      <th>2</th>\n",
       "      <td>data/assert_notebooks/tanmay2298/Advanced-Mach...</td>\n",
       "      <td>24</td>\n",
       "      <td>15</td>\n",
       "      <td>3</td>\n",
       "    </tr>\n",
       "    <tr>\n",
       "      <th>3</th>\n",
       "      <td>data/assert_notebooks/mykolesiko/advanced_RL/t...</td>\n",
       "      <td>30</td>\n",
       "      <td>10</td>\n",
       "      <td>2</td>\n",
       "    </tr>\n",
       "    <tr>\n",
       "      <th>4</th>\n",
       "      <td>data/assert_notebooks/raotnameh/NLP_LECTURE/As...</td>\n",
       "      <td>32</td>\n",
       "      <td>24</td>\n",
       "      <td>2</td>\n",
       "    </tr>\n",
       "  </tbody>\n",
       "</table>\n",
       "</div>"
      ],
      "text/plain": [
       "                                            notebook  num_code_cells  \\\n",
       "0  data/assert_notebooks/tanmay2298/Advanced-Mach...              33   \n",
       "1  data/assert_notebooks/tanmay2298/Advanced-Mach...              20   \n",
       "2  data/assert_notebooks/tanmay2298/Advanced-Mach...              24   \n",
       "3  data/assert_notebooks/mykolesiko/advanced_RL/t...              30   \n",
       "4  data/assert_notebooks/raotnameh/NLP_LECTURE/As...              32   \n",
       "\n",
       "   num_md_cells  num_assert_cells  \n",
       "0            12                 1  \n",
       "1            13                 8  \n",
       "2            15                 3  \n",
       "3            10                 2  \n",
       "4            24                 2  "
      ]
     },
     "execution_count": 10,
     "metadata": {},
     "output_type": "execute_result"
    }
   ],
   "source": [
    "stats.head()"
   ]
  },
  {
   "cell_type": "code",
   "execution_count": 11,
   "metadata": {},
   "outputs": [
    {
     "data": {
      "text/plain": [
       "(44655, 4)"
      ]
     },
     "execution_count": 11,
     "metadata": {},
     "output_type": "execute_result"
    }
   ],
   "source": [
    "stats.shape"
   ]
  },
  {
   "cell_type": "code",
   "execution_count": 12,
   "metadata": {},
   "outputs": [
    {
     "data": {
      "text/html": [
       "<div>\n",
       "<style scoped>\n",
       "    .dataframe tbody tr th:only-of-type {\n",
       "        vertical-align: middle;\n",
       "    }\n",
       "\n",
       "    .dataframe tbody tr th {\n",
       "        vertical-align: top;\n",
       "    }\n",
       "\n",
       "    .dataframe thead th {\n",
       "        text-align: right;\n",
       "    }\n",
       "</style>\n",
       "<table border=\"1\" class=\"dataframe\">\n",
       "  <thead>\n",
       "    <tr style=\"text-align: right;\">\n",
       "      <th></th>\n",
       "      <th>cell_type</th>\n",
       "      <th>source</th>\n",
       "      <th>notebook</th>\n",
       "    </tr>\n",
       "  </thead>\n",
       "  <tbody>\n",
       "    <tr>\n",
       "      <th>10</th>\n",
       "      <td>code</td>\n",
       "      <td># simple test on random numbers\\n\\ndummy_X = n...</td>\n",
       "      <td>data/assert_notebooks/tanmay2298/Advanced-Mach...</td>\n",
       "    </tr>\n",
       "    <tr>\n",
       "      <th>9</th>\n",
       "      <td>code</td>\n",
       "      <td># some tests\\nfrom util import eval_numerical_...</td>\n",
       "      <td>data/assert_notebooks/tanmay2298/Advanced-Mach...</td>\n",
       "    </tr>\n",
       "    <tr>\n",
       "      <th>12</th>\n",
       "      <td>code</td>\n",
       "      <td>class Dense(Layer):\\n    def __init__(self, in...</td>\n",
       "      <td>data/assert_notebooks/tanmay2298/Advanced-Mach...</td>\n",
       "    </tr>\n",
       "    <tr>\n",
       "      <th>14</th>\n",
       "      <td>code</td>\n",
       "      <td>l = Dense(128, 150)\\n\\nassert -0.05 &lt; l.weight...</td>\n",
       "      <td>data/assert_notebooks/tanmay2298/Advanced-Mach...</td>\n",
       "    </tr>\n",
       "    <tr>\n",
       "      <th>15</th>\n",
       "      <td>code</td>\n",
       "      <td># To test the grads, we use gradients obtained...</td>\n",
       "      <td>data/assert_notebooks/tanmay2298/Advanced-Mach...</td>\n",
       "    </tr>\n",
       "  </tbody>\n",
       "</table>\n",
       "</div>"
      ],
      "text/plain": [
       "   cell_type                                             source  \\\n",
       "10      code  # simple test on random numbers\\n\\ndummy_X = n...   \n",
       "9       code  # some tests\\nfrom util import eval_numerical_...   \n",
       "12      code  class Dense(Layer):\\n    def __init__(self, in...   \n",
       "14      code  l = Dense(128, 150)\\n\\nassert -0.05 < l.weight...   \n",
       "15      code  # To test the grads, we use gradients obtained...   \n",
       "\n",
       "                                             notebook  \n",
       "10  data/assert_notebooks/tanmay2298/Advanced-Mach...  \n",
       "9   data/assert_notebooks/tanmay2298/Advanced-Mach...  \n",
       "12  data/assert_notebooks/tanmay2298/Advanced-Mach...  \n",
       "14  data/assert_notebooks/tanmay2298/Advanced-Mach...  \n",
       "15  data/assert_notebooks/tanmay2298/Advanced-Mach...  "
      ]
     },
     "execution_count": 12,
     "metadata": {},
     "output_type": "execute_result"
    }
   ],
   "source": [
    "assert_content.head()"
   ]
  },
  {
   "cell_type": "code",
   "execution_count": 13,
   "metadata": {},
   "outputs": [
    {
     "data": {
      "text/plain": [
       "(95906, 3)"
      ]
     },
     "execution_count": 13,
     "metadata": {},
     "output_type": "execute_result"
    }
   ],
   "source": [
    "assert_content.shape"
   ]
  },
  {
   "cell_type": "code",
   "execution_count": 23,
   "metadata": {},
   "outputs": [
    {
     "name": "stdout",
     "output_type": "stream",
     "text": [
      "# simple test on random numbers\n",
      "\n",
      "dummy_X = np.array([\n",
      "        [0,0],\n",
      "        [1,0],\n",
      "        [2.61,-1.28],\n",
      "        [-0.59,2.1]\n",
      "    ])\n",
      "\n",
      "# call your expand function\n",
      "dummy_expanded = expand(dummy_X)\n",
      "\n",
      "# what it should have returned:   x0       x1       x0^2     x1^2     x0*x1    1\n",
      "dummy_expanded_ans = np.array([[ 0.    ,  0.    ,  0.    ,  0.    ,  0.    ,  1.    ],\n",
      "                               [ 1.    ,  0.    ,  1.    ,  0.    ,  0.    ,  1.    ],\n",
      "                               [ 2.61  , -1.28  ,  6.8121,  1.6384, -3.3408,  1.    ],\n",
      "                               [-0.59  ,  2.1   ,  0.3481,  4.41  , -1.239 ,  1.    ]])\n",
      "\n",
      "#tests\n",
      "assert isinstance(dummy_expanded,np.ndarray), \"please make sure you return numpy array\"\n",
      "assert dummy_expanded.shape == dummy_expanded_ans.shape, \"please make sure your shape is correct\"\n",
      "assert np.allclose(dummy_expanded,dummy_expanded_ans,1e-3), \"Something's out of order with features\"\n",
      "\n",
      "print(\"Seems legit!\")\n",
      "\n"
     ]
    }
   ],
   "source": [
    "print(assert_content.iloc[0].source)"
   ]
  },
  {
   "cell_type": "code",
   "execution_count": 15,
   "metadata": {},
   "outputs": [
    {
     "data": {
      "text/html": [
       "<div>\n",
       "<style scoped>\n",
       "    .dataframe tbody tr th:only-of-type {\n",
       "        vertical-align: middle;\n",
       "    }\n",
       "\n",
       "    .dataframe tbody tr th {\n",
       "        vertical-align: top;\n",
       "    }\n",
       "\n",
       "    .dataframe thead th {\n",
       "        text-align: right;\n",
       "    }\n",
       "</style>\n",
       "<table border=\"1\" class=\"dataframe\">\n",
       "  <thead>\n",
       "    <tr style=\"text-align: right;\">\n",
       "      <th></th>\n",
       "      <th>cell_type</th>\n",
       "      <th>source</th>\n",
       "      <th>notebook</th>\n",
       "      <th>location</th>\n",
       "      <th>assert_cell_index</th>\n",
       "    </tr>\n",
       "  </thead>\n",
       "  <tbody>\n",
       "    <tr>\n",
       "      <th>9</th>\n",
       "      <td>markdown</td>\n",
       "      <td>Here are some tests for your implementation of...</td>\n",
       "      <td>data/assert_notebooks/tanmay2298/Advanced-Mach...</td>\n",
       "      <td>above</td>\n",
       "      <td>10</td>\n",
       "    </tr>\n",
       "    <tr>\n",
       "      <th>11</th>\n",
       "      <td>markdown</td>\n",
       "      <td>## Logistic regression\\n\\nTo classify objects ...</td>\n",
       "      <td>data/assert_notebooks/tanmay2298/Advanced-Mach...</td>\n",
       "      <td>below</td>\n",
       "      <td>10</td>\n",
       "    </tr>\n",
       "    <tr>\n",
       "      <th>8</th>\n",
       "      <td>code</td>\n",
       "      <td>class ReLU(Layer):\\n    def __init__(self):\\n ...</td>\n",
       "      <td>data/assert_notebooks/tanmay2298/Advanced-Mach...</td>\n",
       "      <td>above</td>\n",
       "      <td>9</td>\n",
       "    </tr>\n",
       "    <tr>\n",
       "      <th>10</th>\n",
       "      <td>markdown</td>\n",
       "      <td>#### Instant primer: lambda functions\\n\\nIn py...</td>\n",
       "      <td>data/assert_notebooks/tanmay2298/Advanced-Mach...</td>\n",
       "      <td>below</td>\n",
       "      <td>9</td>\n",
       "    </tr>\n",
       "    <tr>\n",
       "      <th>11</th>\n",
       "      <td>markdown</td>\n",
       "      <td>### Dense layer\\n\\nNow let's build something m...</td>\n",
       "      <td>data/assert_notebooks/tanmay2298/Advanced-Mach...</td>\n",
       "      <td>above</td>\n",
       "      <td>12</td>\n",
       "    </tr>\n",
       "  </tbody>\n",
       "</table>\n",
       "</div>"
      ],
      "text/plain": [
       "   cell_type                                             source  \\\n",
       "9   markdown  Here are some tests for your implementation of...   \n",
       "11  markdown  ## Logistic regression\\n\\nTo classify objects ...   \n",
       "8       code  class ReLU(Layer):\\n    def __init__(self):\\n ...   \n",
       "10  markdown  #### Instant primer: lambda functions\\n\\nIn py...   \n",
       "11  markdown  ### Dense layer\\n\\nNow let's build something m...   \n",
       "\n",
       "                                             notebook location  \\\n",
       "9   data/assert_notebooks/tanmay2298/Advanced-Mach...    above   \n",
       "11  data/assert_notebooks/tanmay2298/Advanced-Mach...    below   \n",
       "8   data/assert_notebooks/tanmay2298/Advanced-Mach...    above   \n",
       "10  data/assert_notebooks/tanmay2298/Advanced-Mach...    below   \n",
       "11  data/assert_notebooks/tanmay2298/Advanced-Mach...    above   \n",
       "\n",
       "    assert_cell_index  \n",
       "9                  10  \n",
       "11                 10  \n",
       "8                   9  \n",
       "10                  9  \n",
       "11                 12  "
      ]
     },
     "execution_count": 15,
     "metadata": {},
     "output_type": "execute_result"
    }
   ],
   "source": [
    "assert_context.head()"
   ]
  },
  {
   "cell_type": "code",
   "execution_count": 16,
   "metadata": {},
   "outputs": [
    {
     "data": {
      "text/plain": [
       "(186223, 5)"
      ]
     },
     "execution_count": 16,
     "metadata": {},
     "output_type": "execute_result"
    }
   ],
   "source": [
    "assert_context.shape"
   ]
  },
  {
   "cell_type": "code",
   "execution_count": 17,
   "metadata": {},
   "outputs": [
    {
     "data": {
      "text/html": [
       "<div>\n",
       "<style scoped>\n",
       "    .dataframe tbody tr th:only-of-type {\n",
       "        vertical-align: middle;\n",
       "    }\n",
       "\n",
       "    .dataframe tbody tr th {\n",
       "        vertical-align: top;\n",
       "    }\n",
       "\n",
       "    .dataframe thead th {\n",
       "        text-align: right;\n",
       "    }\n",
       "</style>\n",
       "<table border=\"1\" class=\"dataframe\">\n",
       "  <thead>\n",
       "    <tr style=\"text-align: right;\">\n",
       "      <th></th>\n",
       "      <th>notebook</th>\n",
       "      <th>image/png</th>\n",
       "    </tr>\n",
       "  </thead>\n",
       "  <tbody>\n",
       "    <tr>\n",
       "      <th>5</th>\n",
       "      <td>data/assert_notebooks/tanmay2298/Advanced-Mach...</td>\n",
       "      <td>iVBORw0KGgoAAAANSUhEUgAAAXYAAAD8CAYAAABjAo9vAA...</td>\n",
       "    </tr>\n",
       "    <tr>\n",
       "      <th>28</th>\n",
       "      <td>data/assert_notebooks/tanmay2298/Advanced-Mach...</td>\n",
       "      <td>iVBORw0KGgoAAAANSUhEUgAAAXYAAAD8CAYAAABjAo9vAA...</td>\n",
       "    </tr>\n",
       "    <tr>\n",
       "      <th>31</th>\n",
       "      <td>data/assert_notebooks/tanmay2298/Advanced-Mach...</td>\n",
       "      <td>iVBORw0KGgoAAAANSUhEUgAAAXYAAAD8CAYAAABjAo9vAA...</td>\n",
       "    </tr>\n",
       "    <tr>\n",
       "      <th>36</th>\n",
       "      <td>data/assert_notebooks/tanmay2298/Advanced-Mach...</td>\n",
       "      <td>iVBORw0KGgoAAAANSUhEUgAAAXYAAAD8CAYAAABjAo9vAA...</td>\n",
       "    </tr>\n",
       "    <tr>\n",
       "      <th>41</th>\n",
       "      <td>data/assert_notebooks/tanmay2298/Advanced-Mach...</td>\n",
       "      <td>iVBORw0KGgoAAAANSUhEUgAAAXYAAAD8CAYAAABjAo9vAA...</td>\n",
       "    </tr>\n",
       "  </tbody>\n",
       "</table>\n",
       "</div>"
      ],
      "text/plain": [
       "                                             notebook  \\\n",
       "5   data/assert_notebooks/tanmay2298/Advanced-Mach...   \n",
       "28  data/assert_notebooks/tanmay2298/Advanced-Mach...   \n",
       "31  data/assert_notebooks/tanmay2298/Advanced-Mach...   \n",
       "36  data/assert_notebooks/tanmay2298/Advanced-Mach...   \n",
       "41  data/assert_notebooks/tanmay2298/Advanced-Mach...   \n",
       "\n",
       "                                            image/png  \n",
       "5   iVBORw0KGgoAAAANSUhEUgAAAXYAAAD8CAYAAABjAo9vAA...  \n",
       "28  iVBORw0KGgoAAAANSUhEUgAAAXYAAAD8CAYAAABjAo9vAA...  \n",
       "31  iVBORw0KGgoAAAANSUhEUgAAAXYAAAD8CAYAAABjAo9vAA...  \n",
       "36  iVBORw0KGgoAAAANSUhEUgAAAXYAAAD8CAYAAABjAo9vAA...  \n",
       "41  iVBORw0KGgoAAAANSUhEUgAAAXYAAAD8CAYAAABjAo9vAA...  "
      ]
     },
     "execution_count": 17,
     "metadata": {},
     "output_type": "execute_result"
    }
   ],
   "source": [
    "visualisations.head()"
   ]
  },
  {
   "cell_type": "code",
   "execution_count": 25,
   "metadata": {},
   "outputs": [
    {
     "data": {
      "text/plain": [
       "(165694, 2)"
      ]
     },
     "execution_count": 25,
     "metadata": {},
     "output_type": "execute_result"
    }
   ],
   "source": [
    "visualisations.shape"
   ]
  },
  {
   "cell_type": "markdown",
   "metadata": {},
   "source": [
    "## Research Questions\n",
    "\n",
    "### RQ1: seq-to-seq translation of python visualisation code to python assertion\n",
    "**WARNING**: this is bleeding edge stuff with high-risk or a negative outcome! Choose this if you are really interested and passionate about NLP!\n",
    "\n",
    "+ curate a dataset of ML visualisation code and related python assertion code\n",
    "+ train seq-2-seq models to automatically *translate* given visualisation code to a python assertion\n",
    "\n",
    "### RQ1 (backup): automatically detect related visualisation-assertion code pairs (VA pairs)\n",
    "\n",
    "+ we manually created a dataset of 256 VA pairs (ground truth)\n",
    "+ explore code similarity metrics for doing this\n",
    "\n",
    "### RQ2: taxonomy of visualisations in ML\n",
    "\n",
    "+ start with high level data exploration of visualisations in ML (eg. most frequent type of plot?)\n",
    "+ create a taxonomy of how visualisations are used in ML to perform specific verification/validation tasks\n",
    "\n",
    "### RQ3: taxonomy of assertions in ML\n",
    "\n",
    "+ start with a high level data exploration of assert statemetns in ML\n",
    "+ create a taxonomy of how assertions are used in ML notebooks for specific V/V tasks\n",
    "\n",
    "### RQ4: explore the role of unit testing in mature ML projects\n",
    "\n",
    "```bibtex\n",
    "@InProceedings{   widyasari2023niche,\n",
    "  title         = {NICHE: A Curated Dataset of Engineered Machine Learning\n",
    "                  Projects in Python},\n",
    "  url           = {http://dx.doi.org/10.1109/MSR59073.2023.00022},\n",
    "  doi           = {10.1109/msr59073.2023.00022},\n",
    "  booktitle     = {2023 IEEE/ACM 20th International Conference on Mining\n",
    "                  Software Repositories (MSR)},\n",
    "  publisher     = {IEEE},\n",
    "  author        = {Widyasari, Ratnadira and Yang, Zhou and Thung, Ferdian and\n",
    "                  Qin Sim, Sheng and Wee, Fiona and Lok, Camellia and Phan,\n",
    "                  Jack and Qi, Haodi and Tan, Constance and Tay, Qijin and\n",
    "                  Lo, David},\n",
    "  year          = {2023},\n",
    "  month         = may\n",
    "}\n",
    "```\n",
    "+ dataset of 470 mature ML projects\n",
    "+ how does testing in mature projects differ from notebooks?\n",
    "\n",
    "### RQ5: smells in ML visualisations\n",
    "**NOTE**: more open-ended RQ with multiple directions to look into\n",
    "\n",
    "+ what are some frequent anti-patterns in ML visualisation code? (eg. lack of labels)\n",
    "+ can find smells from design aspects to performance of visualisation code itself"
   ]
  },
  {
   "cell_type": "markdown",
   "metadata": {},
   "source": []
  }
 ],
 "metadata": {
  "kernelspec": {
   "display_name": ".venv",
   "language": "python",
   "name": "python3"
  },
  "language_info": {
   "codemirror_mode": {
    "name": "ipython",
    "version": 3
   },
   "file_extension": ".py",
   "mimetype": "text/x-python",
   "name": "python",
   "nbconvert_exporter": "python",
   "pygments_lexer": "ipython3",
   "version": "3.12.2"
  }
 },
 "nbformat": 4,
 "nbformat_minor": 2
}
