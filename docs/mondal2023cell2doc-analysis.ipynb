{
 "cells": [
  {
   "cell_type": "markdown",
   "metadata": {},
   "source": [
    "# Analysis of mondal2023cell2doc\n",
    "\n",
    "In this notebook we analyse the data collected from the Cell2Doc dataset."
   ]
  },
  {
   "cell_type": "code",
   "execution_count": 1,
   "metadata": {},
   "outputs": [],
   "source": [
    "import pandas as pd\n",
    "import ast\n",
    "import matplotlib.pyplot as plt\n",
    "import seaborn as sns\n",
    "\n",
    "sns.set_theme(context=\"talk\", style=\"whitegrid\", palette=\"colorblind\")"
   ]
  },
  {
   "cell_type": "code",
   "execution_count": 2,
   "metadata": {},
   "outputs": [
    {
     "ename": "FileNotFoundError",
     "evalue": "[Errno 2] No such file or directory: 'shome2023notebook/mondal2023cell2doc-stats.csv'",
     "output_type": "error",
     "traceback": [
      "\u001b[0;31m---------------------------------------------------------------------------\u001b[0m",
      "\u001b[0;31mFileNotFoundError\u001b[0m                         Traceback (most recent call last)",
      "Cell \u001b[0;32mIn[2], line 1\u001b[0m\n\u001b[0;32m----> 1\u001b[0m stats \u001b[38;5;241m=\u001b[39m \u001b[43mpd\u001b[49m\u001b[38;5;241;43m.\u001b[39;49m\u001b[43mread_csv\u001b[49m\u001b[43m(\u001b[49m\n\u001b[1;32m      2\u001b[0m \u001b[43m    \u001b[49m\u001b[38;5;124;43m\"\u001b[39;49m\u001b[38;5;124;43mshome2023notebook/mondal2023cell2doc-stats.csv\u001b[39;49m\u001b[38;5;124;43m\"\u001b[39;49m\u001b[43m,\u001b[49m\n\u001b[1;32m      3\u001b[0m \u001b[43m    \u001b[49m\u001b[43mheader\u001b[49m\u001b[38;5;241;43m=\u001b[39;49m\u001b[38;5;28;43;01mNone\u001b[39;49;00m\u001b[43m,\u001b[49m\n\u001b[1;32m      4\u001b[0m \u001b[43m    \u001b[49m\u001b[43mnames\u001b[49m\u001b[38;5;241;43m=\u001b[39;49m\u001b[43m[\u001b[49m\u001b[38;5;124;43m\"\u001b[39;49m\u001b[38;5;124;43mnotebook\u001b[39;49m\u001b[38;5;124;43m\"\u001b[39;49m\u001b[43m,\u001b[49m\u001b[43m \u001b[49m\u001b[38;5;124;43m\"\u001b[39;49m\u001b[38;5;124;43mnum_code_cells\u001b[39;49m\u001b[38;5;124;43m\"\u001b[39;49m\u001b[43m,\u001b[49m\u001b[43m \u001b[49m\u001b[38;5;124;43m\"\u001b[39;49m\u001b[38;5;124;43mnum_md_cells\u001b[39;49m\u001b[38;5;124;43m\"\u001b[39;49m\u001b[43m,\u001b[49m\u001b[43m \u001b[49m\u001b[38;5;124;43m\"\u001b[39;49m\u001b[38;5;124;43mnum_assert_cells\u001b[39;49m\u001b[38;5;124;43m\"\u001b[39;49m\u001b[43m]\u001b[49m\u001b[43m,\u001b[49m\n\u001b[1;32m      5\u001b[0m \u001b[43m)\u001b[49m\n\u001b[1;32m      6\u001b[0m assert_content \u001b[38;5;241m=\u001b[39m pd\u001b[38;5;241m.\u001b[39mread_csv(\n\u001b[1;32m      7\u001b[0m     \u001b[38;5;124m\"\u001b[39m\u001b[38;5;124mshome2023notebook/mondal2023cell2doc-assert-content.csv\u001b[39m\u001b[38;5;124m\"\u001b[39m,\n\u001b[1;32m      8\u001b[0m     header\u001b[38;5;241m=\u001b[39m\u001b[38;5;28;01mNone\u001b[39;00m,\n\u001b[1;32m      9\u001b[0m     names\u001b[38;5;241m=\u001b[39m[\u001b[38;5;124m\"\u001b[39m\u001b[38;5;124mcell_type\u001b[39m\u001b[38;5;124m\"\u001b[39m, \u001b[38;5;124m\"\u001b[39m\u001b[38;5;124msource\u001b[39m\u001b[38;5;124m\"\u001b[39m, \u001b[38;5;124m\"\u001b[39m\u001b[38;5;124mnotebook\u001b[39m\u001b[38;5;124m\"\u001b[39m],\n\u001b[1;32m     10\u001b[0m )\n",
      "File \u001b[0;32m~/phd/shome2023notebook/.venv/lib/python3.12/site-packages/pandas/io/parsers/readers.py:1026\u001b[0m, in \u001b[0;36mread_csv\u001b[0;34m(filepath_or_buffer, sep, delimiter, header, names, index_col, usecols, dtype, engine, converters, true_values, false_values, skipinitialspace, skiprows, skipfooter, nrows, na_values, keep_default_na, na_filter, verbose, skip_blank_lines, parse_dates, infer_datetime_format, keep_date_col, date_parser, date_format, dayfirst, cache_dates, iterator, chunksize, compression, thousands, decimal, lineterminator, quotechar, quoting, doublequote, escapechar, comment, encoding, encoding_errors, dialect, on_bad_lines, delim_whitespace, low_memory, memory_map, float_precision, storage_options, dtype_backend)\u001b[0m\n\u001b[1;32m   1013\u001b[0m kwds_defaults \u001b[38;5;241m=\u001b[39m _refine_defaults_read(\n\u001b[1;32m   1014\u001b[0m     dialect,\n\u001b[1;32m   1015\u001b[0m     delimiter,\n\u001b[0;32m   (...)\u001b[0m\n\u001b[1;32m   1022\u001b[0m     dtype_backend\u001b[38;5;241m=\u001b[39mdtype_backend,\n\u001b[1;32m   1023\u001b[0m )\n\u001b[1;32m   1024\u001b[0m kwds\u001b[38;5;241m.\u001b[39mupdate(kwds_defaults)\n\u001b[0;32m-> 1026\u001b[0m \u001b[38;5;28;01mreturn\u001b[39;00m \u001b[43m_read\u001b[49m\u001b[43m(\u001b[49m\u001b[43mfilepath_or_buffer\u001b[49m\u001b[43m,\u001b[49m\u001b[43m \u001b[49m\u001b[43mkwds\u001b[49m\u001b[43m)\u001b[49m\n",
      "File \u001b[0;32m~/phd/shome2023notebook/.venv/lib/python3.12/site-packages/pandas/io/parsers/readers.py:620\u001b[0m, in \u001b[0;36m_read\u001b[0;34m(filepath_or_buffer, kwds)\u001b[0m\n\u001b[1;32m    617\u001b[0m _validate_names(kwds\u001b[38;5;241m.\u001b[39mget(\u001b[38;5;124m\"\u001b[39m\u001b[38;5;124mnames\u001b[39m\u001b[38;5;124m\"\u001b[39m, \u001b[38;5;28;01mNone\u001b[39;00m))\n\u001b[1;32m    619\u001b[0m \u001b[38;5;66;03m# Create the parser.\u001b[39;00m\n\u001b[0;32m--> 620\u001b[0m parser \u001b[38;5;241m=\u001b[39m \u001b[43mTextFileReader\u001b[49m\u001b[43m(\u001b[49m\u001b[43mfilepath_or_buffer\u001b[49m\u001b[43m,\u001b[49m\u001b[43m \u001b[49m\u001b[38;5;241;43m*\u001b[39;49m\u001b[38;5;241;43m*\u001b[39;49m\u001b[43mkwds\u001b[49m\u001b[43m)\u001b[49m\n\u001b[1;32m    622\u001b[0m \u001b[38;5;28;01mif\u001b[39;00m chunksize \u001b[38;5;129;01mor\u001b[39;00m iterator:\n\u001b[1;32m    623\u001b[0m     \u001b[38;5;28;01mreturn\u001b[39;00m parser\n",
      "File \u001b[0;32m~/phd/shome2023notebook/.venv/lib/python3.12/site-packages/pandas/io/parsers/readers.py:1620\u001b[0m, in \u001b[0;36mTextFileReader.__init__\u001b[0;34m(self, f, engine, **kwds)\u001b[0m\n\u001b[1;32m   1617\u001b[0m     \u001b[38;5;28mself\u001b[39m\u001b[38;5;241m.\u001b[39moptions[\u001b[38;5;124m\"\u001b[39m\u001b[38;5;124mhas_index_names\u001b[39m\u001b[38;5;124m\"\u001b[39m] \u001b[38;5;241m=\u001b[39m kwds[\u001b[38;5;124m\"\u001b[39m\u001b[38;5;124mhas_index_names\u001b[39m\u001b[38;5;124m\"\u001b[39m]\n\u001b[1;32m   1619\u001b[0m \u001b[38;5;28mself\u001b[39m\u001b[38;5;241m.\u001b[39mhandles: IOHandles \u001b[38;5;241m|\u001b[39m \u001b[38;5;28;01mNone\u001b[39;00m \u001b[38;5;241m=\u001b[39m \u001b[38;5;28;01mNone\u001b[39;00m\n\u001b[0;32m-> 1620\u001b[0m \u001b[38;5;28mself\u001b[39m\u001b[38;5;241m.\u001b[39m_engine \u001b[38;5;241m=\u001b[39m \u001b[38;5;28;43mself\u001b[39;49m\u001b[38;5;241;43m.\u001b[39;49m\u001b[43m_make_engine\u001b[49m\u001b[43m(\u001b[49m\u001b[43mf\u001b[49m\u001b[43m,\u001b[49m\u001b[43m \u001b[49m\u001b[38;5;28;43mself\u001b[39;49m\u001b[38;5;241;43m.\u001b[39;49m\u001b[43mengine\u001b[49m\u001b[43m)\u001b[49m\n",
      "File \u001b[0;32m~/phd/shome2023notebook/.venv/lib/python3.12/site-packages/pandas/io/parsers/readers.py:1880\u001b[0m, in \u001b[0;36mTextFileReader._make_engine\u001b[0;34m(self, f, engine)\u001b[0m\n\u001b[1;32m   1878\u001b[0m     \u001b[38;5;28;01mif\u001b[39;00m \u001b[38;5;124m\"\u001b[39m\u001b[38;5;124mb\u001b[39m\u001b[38;5;124m\"\u001b[39m \u001b[38;5;129;01mnot\u001b[39;00m \u001b[38;5;129;01min\u001b[39;00m mode:\n\u001b[1;32m   1879\u001b[0m         mode \u001b[38;5;241m+\u001b[39m\u001b[38;5;241m=\u001b[39m \u001b[38;5;124m\"\u001b[39m\u001b[38;5;124mb\u001b[39m\u001b[38;5;124m\"\u001b[39m\n\u001b[0;32m-> 1880\u001b[0m \u001b[38;5;28mself\u001b[39m\u001b[38;5;241m.\u001b[39mhandles \u001b[38;5;241m=\u001b[39m \u001b[43mget_handle\u001b[49m\u001b[43m(\u001b[49m\n\u001b[1;32m   1881\u001b[0m \u001b[43m    \u001b[49m\u001b[43mf\u001b[49m\u001b[43m,\u001b[49m\n\u001b[1;32m   1882\u001b[0m \u001b[43m    \u001b[49m\u001b[43mmode\u001b[49m\u001b[43m,\u001b[49m\n\u001b[1;32m   1883\u001b[0m \u001b[43m    \u001b[49m\u001b[43mencoding\u001b[49m\u001b[38;5;241;43m=\u001b[39;49m\u001b[38;5;28;43mself\u001b[39;49m\u001b[38;5;241;43m.\u001b[39;49m\u001b[43moptions\u001b[49m\u001b[38;5;241;43m.\u001b[39;49m\u001b[43mget\u001b[49m\u001b[43m(\u001b[49m\u001b[38;5;124;43m\"\u001b[39;49m\u001b[38;5;124;43mencoding\u001b[39;49m\u001b[38;5;124;43m\"\u001b[39;49m\u001b[43m,\u001b[49m\u001b[43m \u001b[49m\u001b[38;5;28;43;01mNone\u001b[39;49;00m\u001b[43m)\u001b[49m\u001b[43m,\u001b[49m\n\u001b[1;32m   1884\u001b[0m \u001b[43m    \u001b[49m\u001b[43mcompression\u001b[49m\u001b[38;5;241;43m=\u001b[39;49m\u001b[38;5;28;43mself\u001b[39;49m\u001b[38;5;241;43m.\u001b[39;49m\u001b[43moptions\u001b[49m\u001b[38;5;241;43m.\u001b[39;49m\u001b[43mget\u001b[49m\u001b[43m(\u001b[49m\u001b[38;5;124;43m\"\u001b[39;49m\u001b[38;5;124;43mcompression\u001b[39;49m\u001b[38;5;124;43m\"\u001b[39;49m\u001b[43m,\u001b[49m\u001b[43m \u001b[49m\u001b[38;5;28;43;01mNone\u001b[39;49;00m\u001b[43m)\u001b[49m\u001b[43m,\u001b[49m\n\u001b[1;32m   1885\u001b[0m \u001b[43m    \u001b[49m\u001b[43mmemory_map\u001b[49m\u001b[38;5;241;43m=\u001b[39;49m\u001b[38;5;28;43mself\u001b[39;49m\u001b[38;5;241;43m.\u001b[39;49m\u001b[43moptions\u001b[49m\u001b[38;5;241;43m.\u001b[39;49m\u001b[43mget\u001b[49m\u001b[43m(\u001b[49m\u001b[38;5;124;43m\"\u001b[39;49m\u001b[38;5;124;43mmemory_map\u001b[39;49m\u001b[38;5;124;43m\"\u001b[39;49m\u001b[43m,\u001b[49m\u001b[43m \u001b[49m\u001b[38;5;28;43;01mFalse\u001b[39;49;00m\u001b[43m)\u001b[49m\u001b[43m,\u001b[49m\n\u001b[1;32m   1886\u001b[0m \u001b[43m    \u001b[49m\u001b[43mis_text\u001b[49m\u001b[38;5;241;43m=\u001b[39;49m\u001b[43mis_text\u001b[49m\u001b[43m,\u001b[49m\n\u001b[1;32m   1887\u001b[0m \u001b[43m    \u001b[49m\u001b[43merrors\u001b[49m\u001b[38;5;241;43m=\u001b[39;49m\u001b[38;5;28;43mself\u001b[39;49m\u001b[38;5;241;43m.\u001b[39;49m\u001b[43moptions\u001b[49m\u001b[38;5;241;43m.\u001b[39;49m\u001b[43mget\u001b[49m\u001b[43m(\u001b[49m\u001b[38;5;124;43m\"\u001b[39;49m\u001b[38;5;124;43mencoding_errors\u001b[39;49m\u001b[38;5;124;43m\"\u001b[39;49m\u001b[43m,\u001b[49m\u001b[43m \u001b[49m\u001b[38;5;124;43m\"\u001b[39;49m\u001b[38;5;124;43mstrict\u001b[39;49m\u001b[38;5;124;43m\"\u001b[39;49m\u001b[43m)\u001b[49m\u001b[43m,\u001b[49m\n\u001b[1;32m   1888\u001b[0m \u001b[43m    \u001b[49m\u001b[43mstorage_options\u001b[49m\u001b[38;5;241;43m=\u001b[39;49m\u001b[38;5;28;43mself\u001b[39;49m\u001b[38;5;241;43m.\u001b[39;49m\u001b[43moptions\u001b[49m\u001b[38;5;241;43m.\u001b[39;49m\u001b[43mget\u001b[49m\u001b[43m(\u001b[49m\u001b[38;5;124;43m\"\u001b[39;49m\u001b[38;5;124;43mstorage_options\u001b[39;49m\u001b[38;5;124;43m\"\u001b[39;49m\u001b[43m,\u001b[49m\u001b[43m \u001b[49m\u001b[38;5;28;43;01mNone\u001b[39;49;00m\u001b[43m)\u001b[49m\u001b[43m,\u001b[49m\n\u001b[1;32m   1889\u001b[0m \u001b[43m\u001b[49m\u001b[43m)\u001b[49m\n\u001b[1;32m   1890\u001b[0m \u001b[38;5;28;01massert\u001b[39;00m \u001b[38;5;28mself\u001b[39m\u001b[38;5;241m.\u001b[39mhandles \u001b[38;5;129;01mis\u001b[39;00m \u001b[38;5;129;01mnot\u001b[39;00m \u001b[38;5;28;01mNone\u001b[39;00m\n\u001b[1;32m   1891\u001b[0m f \u001b[38;5;241m=\u001b[39m \u001b[38;5;28mself\u001b[39m\u001b[38;5;241m.\u001b[39mhandles\u001b[38;5;241m.\u001b[39mhandle\n",
      "File \u001b[0;32m~/phd/shome2023notebook/.venv/lib/python3.12/site-packages/pandas/io/common.py:873\u001b[0m, in \u001b[0;36mget_handle\u001b[0;34m(path_or_buf, mode, encoding, compression, memory_map, is_text, errors, storage_options)\u001b[0m\n\u001b[1;32m    868\u001b[0m \u001b[38;5;28;01melif\u001b[39;00m \u001b[38;5;28misinstance\u001b[39m(handle, \u001b[38;5;28mstr\u001b[39m):\n\u001b[1;32m    869\u001b[0m     \u001b[38;5;66;03m# Check whether the filename is to be opened in binary mode.\u001b[39;00m\n\u001b[1;32m    870\u001b[0m     \u001b[38;5;66;03m# Binary mode does not support 'encoding' and 'newline'.\u001b[39;00m\n\u001b[1;32m    871\u001b[0m     \u001b[38;5;28;01mif\u001b[39;00m ioargs\u001b[38;5;241m.\u001b[39mencoding \u001b[38;5;129;01mand\u001b[39;00m \u001b[38;5;124m\"\u001b[39m\u001b[38;5;124mb\u001b[39m\u001b[38;5;124m\"\u001b[39m \u001b[38;5;129;01mnot\u001b[39;00m \u001b[38;5;129;01min\u001b[39;00m ioargs\u001b[38;5;241m.\u001b[39mmode:\n\u001b[1;32m    872\u001b[0m         \u001b[38;5;66;03m# Encoding\u001b[39;00m\n\u001b[0;32m--> 873\u001b[0m         handle \u001b[38;5;241m=\u001b[39m \u001b[38;5;28;43mopen\u001b[39;49m\u001b[43m(\u001b[49m\n\u001b[1;32m    874\u001b[0m \u001b[43m            \u001b[49m\u001b[43mhandle\u001b[49m\u001b[43m,\u001b[49m\n\u001b[1;32m    875\u001b[0m \u001b[43m            \u001b[49m\u001b[43mioargs\u001b[49m\u001b[38;5;241;43m.\u001b[39;49m\u001b[43mmode\u001b[49m\u001b[43m,\u001b[49m\n\u001b[1;32m    876\u001b[0m \u001b[43m            \u001b[49m\u001b[43mencoding\u001b[49m\u001b[38;5;241;43m=\u001b[39;49m\u001b[43mioargs\u001b[49m\u001b[38;5;241;43m.\u001b[39;49m\u001b[43mencoding\u001b[49m\u001b[43m,\u001b[49m\n\u001b[1;32m    877\u001b[0m \u001b[43m            \u001b[49m\u001b[43merrors\u001b[49m\u001b[38;5;241;43m=\u001b[39;49m\u001b[43merrors\u001b[49m\u001b[43m,\u001b[49m\n\u001b[1;32m    878\u001b[0m \u001b[43m            \u001b[49m\u001b[43mnewline\u001b[49m\u001b[38;5;241;43m=\u001b[39;49m\u001b[38;5;124;43m\"\u001b[39;49m\u001b[38;5;124;43m\"\u001b[39;49m\u001b[43m,\u001b[49m\n\u001b[1;32m    879\u001b[0m \u001b[43m        \u001b[49m\u001b[43m)\u001b[49m\n\u001b[1;32m    880\u001b[0m     \u001b[38;5;28;01melse\u001b[39;00m:\n\u001b[1;32m    881\u001b[0m         \u001b[38;5;66;03m# Binary mode\u001b[39;00m\n\u001b[1;32m    882\u001b[0m         handle \u001b[38;5;241m=\u001b[39m \u001b[38;5;28mopen\u001b[39m(handle, ioargs\u001b[38;5;241m.\u001b[39mmode)\n",
      "\u001b[0;31mFileNotFoundError\u001b[0m: [Errno 2] No such file or directory: 'shome2023notebook/mondal2023cell2doc-stats.csv'"
     ]
    }
   ],
   "source": [
    "stats = pd.read_csv(\n",
    "    \"shome2023notebook/mondal2023cell2doc-stats.csv\",\n",
    "    header=None,\n",
    "    names=[\"notebook\", \"num_code_cells\", \"num_md_cells\", \"num_assert_cells\"],\n",
    ")\n",
    "assert_content = pd.read_csv(\n",
    "    \"shome2023notebook/mondal2023cell2doc-assert-content.csv\",\n",
    "    header=None,\n",
    "    names=[\"cell_type\", \"source\", \"notebook\"],\n",
    ")"
   ]
  },
  {
   "cell_type": "markdown",
   "metadata": {},
   "source": [
    "### Data pre-processing\n",
    "\n",
    "In this section we perform some data pre-processing tasks:\n",
    "1. Remove code cells in assert_content that have invalid syntax"
   ]
  },
  {
   "cell_type": "code",
   "execution_count": 3,
   "metadata": {},
   "outputs": [
    {
     "name": "stderr",
     "output_type": "stream",
     "text": [
      "<unknown>:13: SyntaxWarning: invalid escape sequence '\\s'\n",
      "<unknown>:415: SyntaxWarning: invalid escape sequence '\\['\n",
      "<unknown>:64: SyntaxWarning: invalid escape sequence '\\w'\n",
      "<unknown>:92: SyntaxWarning: invalid escape sequence '\\w'\n",
      "<unknown>:105: SyntaxWarning: invalid escape sequence '\\s'\n",
      "<unknown>:60: SyntaxWarning: invalid escape sequence '\\w'\n",
      "<unknown>:13: SyntaxWarning: invalid escape sequence '\\s'\n",
      "<unknown>:415: SyntaxWarning: invalid escape sequence '\\['\n",
      "<unknown>:64: SyntaxWarning: invalid escape sequence '\\w'\n",
      "<unknown>:92: SyntaxWarning: invalid escape sequence '\\w'\n"
     ]
    }
   ],
   "source": [
    "def has_valid_syntax(source: str) -> bool:\n",
    "    valid = True\n",
    "    try:\n",
    "        ast.parse(source)\n",
    "    except SyntaxError:\n",
    "        valid = False\n",
    "\n",
    "    return valid\n",
    "\n",
    "\n",
    "assert_content.loc[:, \"is_valid\"] = assert_content[\"source\"].apply(has_valid_syntax)"
   ]
  },
  {
   "cell_type": "code",
   "execution_count": 4,
   "metadata": {},
   "outputs": [
    {
     "name": "stderr",
     "output_type": "stream",
     "text": [
      "/var/folders/3_/dh2k952n2rld3_w3r369mln80000gn/T/ipykernel_64762/2799363303.py:8: SettingWithCopyWarning: \n",
      "A value is trying to be set on a copy of a slice from a DataFrame.\n",
      "Try using .loc[row_indexer,col_indexer] = value instead\n",
      "\n",
      "See the caveats in the documentation: https://pandas.pydata.org/pandas-docs/stable/user_guide/indexing.html#returning-a-view-versus-a-copy\n",
      "  invalid.loc[:, \"error\"] = invalid[\"source\"].apply(get_error)\n"
     ]
    },
    {
     "data": {
      "text/plain": [
       "2     unterminated string literal (detected at line ...\n",
       "1                    invalid syntax (<unknown>, line 1)\n",
       "10                unexpected indent (<unknown>, line 1)\n",
       "1                    invalid syntax (<unknown>, line 2)\n",
       "7                   invalid syntax (<unknown>, line 13)\n",
       "8                   invalid syntax (<unknown>, line 14)\n",
       "5                   invalid syntax (<unknown>, line 28)\n",
       "1     unterminated string literal (detected at line ...\n",
       "15                   invalid syntax (<unknown>, line 1)\n",
       "17                   invalid syntax (<unknown>, line 1)\n",
       "21                   invalid syntax (<unknown>, line 1)\n",
       "23                   invalid syntax (<unknown>, line 1)\n",
       "1     unterminated string literal (detected at line ...\n",
       "1                    invalid syntax (<unknown>, line 1)\n",
       "6                    invalid syntax (<unknown>, line 1)\n",
       "14                   invalid syntax (<unknown>, line 1)\n",
       "0                   invalid syntax (<unknown>, line 51)\n",
       "4                    invalid syntax (<unknown>, line 1)\n",
       "10    closing parenthesis ')' does not match opening...\n",
       "6                    invalid syntax (<unknown>, line 4)\n",
       "4                    invalid syntax (<unknown>, line 1)\n",
       "3                    invalid syntax (<unknown>, line 1)\n",
       "4                    invalid syntax (<unknown>, line 1)\n",
       "10                unexpected indent (<unknown>, line 1)\n",
       "1                    invalid syntax (<unknown>, line 1)\n",
       "0                   invalid syntax (<unknown>, line 51)\n",
       "6                    invalid syntax (<unknown>, line 4)\n",
       "4                    invalid syntax (<unknown>, line 1)\n",
       "Name: error, dtype: object"
      ]
     },
     "execution_count": 4,
     "metadata": {},
     "output_type": "execute_result"
    }
   ],
   "source": [
    "def get_error(source):\n",
    "    try:\n",
    "        ast.parse(source)\n",
    "    except SyntaxError as err:\n",
    "        return err\n",
    "\n",
    "invalid = assert_content.loc[~assert_content[\"is_valid\"]]\n",
    "invalid.loc[:, \"error\"] = invalid[\"source\"].apply(get_error)\n",
    "invalid[\"error\"]"
   ]
  },
  {
   "cell_type": "markdown",
   "metadata": {},
   "source": [
    "Most of the syntax errors are due to \"unknown\" nodes in the tree. Lets investigate a random sample of (source,error) to understand the problem."
   ]
  },
  {
   "cell_type": "code",
   "execution_count": 5,
   "metadata": {},
   "outputs": [
    {
     "name": "stdout",
     "output_type": "stream",
     "text": [
      "============================================================\n",
      "NOTEBOOK:data/mondal2023cell2doc/Cell2Doc-Artifacts/Repository/notebooks-dataset/notebooks/lamdang_fast-shuffle-bson-generator-for-keras.ipynb\n",
      "SOURCE:\n",
      "\n",
      "%%timeit\n",
      "i = np.random.choice(meta_data.shape[0], size=1)[0]\n",
      "sample = meta_data.iloc[i:i+10000].sample(256).sort_index()\n",
      "res = []\n",
      "for _id, row in sample.iterrows():\n",
      "    obs = get_obs(file, row['offset'], row['length'])\n",
      "    assert _id == obs['_id'] \n",
      "ERROR:\n",
      "\n",
      "invalid syntax (<unknown>, line 1)\n",
      "============================================================\n",
      "============================================================\n",
      "NOTEBOOK:data/mondal2023cell2doc/Cell2Doc-Artifacts/Repository/notebooks-dataset/notebooks/alexfir_light-curves-visualization.ipynb\n",
      "SOURCE:\n",
      "\n",
      "%matplotlib inline\n",
      "import warnings\n",
      "warnings.filterwarnings('ignore')\n",
      "import os.path\n",
      "import gc\n",
      "import time\n",
      "import pickle\n",
      "import feather\n",
      "import numpy as np\n",
      "import pandas as pd\n",
      "import seaborn as sns\n",
      "import matplotlib.pyplot as plt\n",
      "from IPython.core.display import HTML\n",
      "from IPython.display import Markdown, display\n",
      "\n",
      "def read_data(directory):\n",
      "    train_dtypes = {\n",
      "        'object_id': np.int32,\n",
      "        'mjd': np.float64,\n",
      "        'passband': np.int8,\n",
      "        'flux': np.float32,\n",
      "    }\n",
      "    train_file_path = os.path.join(directory, 'training_set.csv')\n",
      "    #print('reading {}'.format(train_file_path))\n",
      "    train = pd.read_csv(train_file_path, dtype=train_dtypes, usecols=list(train_dtypes.keys()))\n",
      "\n",
      "    train_meta_dtypes = {\n",
      "        'object_id': np.int32,\n",
      "        'target': np.int8,\n",
      "    }\n",
      "    train_meta_file_path = os.path.join(directory, 'training_set_metadata.csv')\n",
      "    #print('reading {}'.format(train_meta_file_path))\n",
      "    train_meta = pd.read_csv(train_meta_file_path, dtype=train_meta_dtypes, usecols=list(train_meta_dtypes.keys()))\n",
      "\n",
      "    object_id_to_target = train_meta.set_index('object_id')['target']\n",
      "    train['target'] = train['object_id'].map(object_id_to_target)\n",
      "    assert (pd.isnull(train['target'])).astype(np.int32).sum() == 0\n",
      "\n",
      "    return train\n",
      "ERROR:\n",
      "\n",
      "invalid syntax (<unknown>, line 1)\n",
      "============================================================\n",
      "============================================================\n",
      "NOTEBOOK:data/mondal2023cell2doc/Cell2Doc-Artifacts/Repository/notebooks-dataset/notebooks/sramirez_training-efficientdet-gradient-accumulation-f1.ipynb\n",
      "SOURCE:\n",
      "\n",
      " assert (marking[['image_id', 'source']].groupby('image_id')['source'].nunique() == 1).all() # only one distinct source by image_id\n",
      "ERROR:\n",
      "\n",
      "unexpected indent (<unknown>, line 1)\n",
      "============================================================\n",
      "============================================================\n",
      "NOTEBOOK:data/mondal2023cell2doc/Cell2Doc-Artifacts/Repository/notebooks-dataset/notebooks/hmendonca_proper-clustering-with-facenet-embeddings-eda.ipynb\n",
      "SOURCE:\n",
      "\n",
      "import glob\n",
      "face_files = []\n",
      "meta = pd.DataFrame()\n",
      "for jsn in glob.glob(f'{train_videos}/metadata*.json'):\n",
      "    df = pd.read_json(jsn).transpose()\n",
      "    chunk = int(jsn[len(f'{train_videos}/metadata'):-len('.json')])\n",
      "    df['chunk'] = chunk\n",
      "    meta = pd.concat([meta, df])\n",
      "    path = f'{train_videos}/DeepFake{chunk:02}/DeepFake{chunk:02}'\n",
      "    print(meta.shape, jsn, path)\n",
      "    assert os.path.isdir(path)\n",
      "    # symlink all images to 'faces_path'\n",
      "    !ls {path} | xargs -IN ln -sf {path}/N {faces_path}/\n",
      "    faces = [f'{faces_path}/{vid[:-4]}.jpg' for vid in df[df.label == 'REAL'].index.tolist()]\n",
      "    face_files.extend(faces)\n",
      "print(f'Found {len(face_files)} real videos in {len(meta.chunk.unique())} folders')\n",
      "assert len(face_files) == len(meta[meta.label == 'REAL'])\n",
      "ERROR:\n",
      "\n",
      "invalid syntax (<unknown>, line 13)\n",
      "============================================================\n",
      "============================================================\n",
      "NOTEBOOK:data/mondal2023cell2doc/Cell2Doc-Artifacts/Repository/notebooks-dataset/notebooks/lamdang_fast-shuffle-bson-generator-for-keras.ipynb\n",
      "SOURCE:\n",
      "\n",
      "%%timeit\n",
      "i = np.random.choice(meta_data.shape[0], size=1)[0]\n",
      "sample = meta_data.iloc[i:i+256]\n",
      "res = []\n",
      "for _id, row in sample.iterrows():\n",
      "    obs = get_obs(file, row['offset'], row['length'])\n",
      "    assert _id == obs['_id'] \n",
      "ERROR:\n",
      "\n",
      "invalid syntax (<unknown>, line 1)\n",
      "============================================================\n"
     ]
    }
   ],
   "source": [
    "for row in invalid.sample(5).itertuples():\n",
    "    print(\"============================================================\")\n",
    "    print(f\"NOTEBOOK:{row.notebook}\")\n",
    "    print(\"SOURCE:\\n\")\n",
    "    print(f\"{row.source}\")\n",
    "    try:\n",
    "        ast.parse(row.source)\n",
    "    except SyntaxError as err:\n",
    "        print(\"ERROR:\\n\")\n",
    "        print(err)\n",
    "    print(\"============================================================\")"
   ]
  },
  {
   "cell_type": "markdown",
   "metadata": {},
   "source": [
    "Python AST module does not know about ipython's magic & very magic syntax. Let's remove these lines from the source."
   ]
  },
  {
   "cell_type": "code",
   "execution_count": 6,
   "metadata": {},
   "outputs": [],
   "source": [
    "# NOTE: I tried removing (very)magic lines using regex but it does not capture all rows where these statements are present.\n",
    "# TODO: Alternative approach would be convert `source` to list (split on \"\\n\"), remove lines with (very)magic statements, join list back to str.\n",
    "\n",
    "# invalid.loc[:, \"source\"] = invalid.loc[:, \"source\"].str.replace(pat=\"^%%?.*$\", repl=\"\", regex=True)\n",
    "# invalid.loc[:, \"source\"].str.contains(pat=\"%%?.*\\\\n\", regex=True)\n",
    "# invalid.loc[:, \"is_valid\"] = invalid[\"source\"].apply(has_valid_syntax)\n",
    "# invalid.loc[~invalid[\"is_valid\"]]"
   ]
  },
  {
   "cell_type": "code",
   "execution_count": 7,
   "metadata": {},
   "outputs": [
    {
     "data": {
      "text/plain": [
       "(1388, 3)"
      ]
     },
     "execution_count": 7,
     "metadata": {},
     "output_type": "execute_result"
    }
   ],
   "source": [
    "assert_content = assert_content.loc[assert_content[\"is_valid\"], [\"cell_type\", \"source\", \"notebook\"]]\n",
    "assert_content.shape"
   ]
  },
  {
   "cell_type": "markdown",
   "metadata": {},
   "source": [
    "## Descriptive statistics of notebooks with assertions\n",
    "\n",
    "In this section we compute some high-level descriptive statistics of notebooks that contain assertions.\n",
    "\n",
    "We use the following terminology thoughout the analysis:\n",
    "1. Code cell: cells with `cell_type` 'code'\n",
    "2. Markdown (md) cell: cells with `cell_type` 'markdown'\n",
    "3. Test cell: cells that contain at least 1 test. We consider all tests that may be written using the python `assert` keyword or a a function provided by an external testing library (eg. python `unittest`, `numpy.testing`, etc). The reasoning here is that popular testing libraries provide test methods with names containing the keyword \"assert\" in them.\n",
    "3. Assert cell: code cells that contain at least 1 node of type `ast.Assert`\n",
    "\n",
    "We compute the following statistics:\n",
    "1. What is the average number of code cells, markdown cells and assert cells in a notebook?\n",
    "1. What is the ratio of code cells with vs. without assertions?"
   ]
  },
  {
   "cell_type": "code",
   "execution_count": 8,
   "metadata": {},
   "outputs": [
    {
     "data": {
      "text/html": [
       "<div>\n",
       "<style scoped>\n",
       "    .dataframe tbody tr th:only-of-type {\n",
       "        vertical-align: middle;\n",
       "    }\n",
       "\n",
       "    .dataframe tbody tr th {\n",
       "        vertical-align: top;\n",
       "    }\n",
       "\n",
       "    .dataframe thead th {\n",
       "        text-align: right;\n",
       "    }\n",
       "</style>\n",
       "<table border=\"1\" class=\"dataframe\">\n",
       "  <thead>\n",
       "    <tr style=\"text-align: right;\">\n",
       "      <th></th>\n",
       "      <th>num_code_cells</th>\n",
       "      <th>num_md_cells</th>\n",
       "      <th>num_assert_cells</th>\n",
       "      <th>code_cells_wo_assert</th>\n",
       "    </tr>\n",
       "  </thead>\n",
       "  <tbody>\n",
       "    <tr>\n",
       "      <th>count</th>\n",
       "      <td>1042.000000</td>\n",
       "      <td>1042.000000</td>\n",
       "      <td>1042.000000</td>\n",
       "      <td>1042.000000</td>\n",
       "    </tr>\n",
       "    <tr>\n",
       "      <th>mean</th>\n",
       "      <td>23.863724</td>\n",
       "      <td>13.190019</td>\n",
       "      <td>1.358925</td>\n",
       "      <td>22.504798</td>\n",
       "    </tr>\n",
       "    <tr>\n",
       "      <th>std</th>\n",
       "      <td>20.174328</td>\n",
       "      <td>15.607468</td>\n",
       "      <td>0.803308</td>\n",
       "      <td>20.025931</td>\n",
       "    </tr>\n",
       "    <tr>\n",
       "      <th>min</th>\n",
       "      <td>1.000000</td>\n",
       "      <td>0.000000</td>\n",
       "      <td>1.000000</td>\n",
       "      <td>0.000000</td>\n",
       "    </tr>\n",
       "    <tr>\n",
       "      <th>25%</th>\n",
       "      <td>12.000000</td>\n",
       "      <td>3.000000</td>\n",
       "      <td>1.000000</td>\n",
       "      <td>11.000000</td>\n",
       "    </tr>\n",
       "    <tr>\n",
       "      <th>50%</th>\n",
       "      <td>19.000000</td>\n",
       "      <td>9.000000</td>\n",
       "      <td>1.000000</td>\n",
       "      <td>18.000000</td>\n",
       "    </tr>\n",
       "    <tr>\n",
       "      <th>75%</th>\n",
       "      <td>31.000000</td>\n",
       "      <td>17.000000</td>\n",
       "      <td>1.000000</td>\n",
       "      <td>29.000000</td>\n",
       "    </tr>\n",
       "    <tr>\n",
       "      <th>max</th>\n",
       "      <td>249.000000</td>\n",
       "      <td>151.000000</td>\n",
       "      <td>6.000000</td>\n",
       "      <td>248.000000</td>\n",
       "    </tr>\n",
       "  </tbody>\n",
       "</table>\n",
       "</div>"
      ],
      "text/plain": [
       "       num_code_cells  num_md_cells  num_assert_cells  code_cells_wo_assert\n",
       "count     1042.000000   1042.000000       1042.000000           1042.000000\n",
       "mean        23.863724     13.190019          1.358925             22.504798\n",
       "std         20.174328     15.607468          0.803308             20.025931\n",
       "min          1.000000      0.000000          1.000000              0.000000\n",
       "25%         12.000000      3.000000          1.000000             11.000000\n",
       "50%         19.000000      9.000000          1.000000             18.000000\n",
       "75%         31.000000     17.000000          1.000000             29.000000\n",
       "max        249.000000    151.000000          6.000000            248.000000"
      ]
     },
     "execution_count": 8,
     "metadata": {},
     "output_type": "execute_result"
    }
   ],
   "source": [
    "stats.loc[:, \"code_cells_wo_assert\"] = (\n",
    "    stats.loc[:, \"num_code_cells\"] - stats.loc[:, \"num_assert_cells\"]\n",
    ")\n",
    "stats.describe()"
   ]
  },
  {
   "cell_type": "code",
   "execution_count": 9,
   "metadata": {},
   "outputs": [
    {
     "data": {
      "text/plain": [
       "<Axes: >"
      ]
     },
     "execution_count": 9,
     "metadata": {},
     "output_type": "execute_result"
    },
    {
     "data": {
      "image/png": "[encoded data removed]",
      "text/plain": [
       "<Figure size 640x480 with 1 Axes>"
      ]
     },
     "metadata": {},
     "output_type": "display_data"
    }
   ],
   "source": [
    "sns.barplot(data=stats.loc[:, [\"num_code_cells\", \"num_md_cells\", \"num_assert_cells\"]])"
   ]
  },
  {
   "cell_type": "code",
   "execution_count": 10,
   "metadata": {},
   "outputs": [
    {
     "data": {
      "text/plain": [
       "<Axes: >"
      ]
     },
     "execution_count": 10,
     "metadata": {},
     "output_type": "execute_result"
    },
    {
     "data": {
      "image/png": "[encoded data removed]",
      "text/plain": [
       "<Figure size 640x480 with 1 Axes>"
      ]
     },
     "metadata": {},
     "output_type": "display_data"
    }
   ],
   "source": [
    "# TODO: stretch the boxplots more\n",
    "sns.boxenplot(data=stats.loc[:, [\"num_code_cells\", \"num_md_cells\", \"num_assert_cells\"]])"
   ]
  },
  {
   "cell_type": "markdown",
   "metadata": {},
   "source": [
    "We observe that in our population of notebooks, the number of code cells is more than the number of markdown cells. This is (probably) in line with the observations from [@quaranta2021kgtorrent].\n",
    "\n",
    "On average, a notebook contains ~21 code cells but only ~1 "
   ]
  },
  {
   "cell_type": "code",
   "execution_count": 11,
   "metadata": {},
   "outputs": [
    {
     "data": {
      "text/plain": [
       "<Axes: ylabel='ratio'>"
      ]
     },
     "execution_count": 11,
     "metadata": {},
     "output_type": "execute_result"
    },
    {
     "data": {
      "image/png": "[encoded data removed]",
      "text/plain": [
       "<Figure size 640x480 with 1 Axes>"
      ]
     },
     "metadata": {},
     "output_type": "display_data"
    }
   ],
   "source": [
    "stats.loc[:, \"ratio\"] = (\n",
    "    stats.loc[:, \"code_cells_wo_assert\"] / stats.loc[:, \"num_assert_cells\"]\n",
    ")\n",
    "sns.boxenplot(data=stats[\"ratio\"])"
   ]
  },
  {
   "cell_type": "markdown",
   "metadata": {},
   "source": [
    "The plot above depicts that the ratio of \"code cells without an assert statement\":\"code cells with at least 1 assert statement\" is on average approximately 20 indicating that the number of code cells without an assert statement is higher.\n",
    "\n",
    "Lets investigate further."
   ]
  },
  {
   "cell_type": "code",
   "execution_count": 12,
   "metadata": {},
   "outputs": [
    {
     "data": {
      "text/plain": [
       "count    1042.000000\n",
       "mean       18.936724\n",
       "std        18.283523\n",
       "min         0.000000\n",
       "25%         8.750000\n",
       "50%        15.000000\n",
       "75%        23.666667\n",
       "max       248.000000\n",
       "Name: ratio, dtype: float64"
      ]
     },
     "execution_count": 12,
     "metadata": {},
     "output_type": "execute_result"
    }
   ],
   "source": [
    "stats[\"ratio\"].describe()"
   ]
  },
  {
   "cell_type": "code",
   "execution_count": 13,
   "metadata": {},
   "outputs": [
    {
     "data": {
      "text/html": [
       "<div>\n",
       "<style scoped>\n",
       "    .dataframe tbody tr th:only-of-type {\n",
       "        vertical-align: middle;\n",
       "    }\n",
       "\n",
       "    .dataframe tbody tr th {\n",
       "        vertical-align: top;\n",
       "    }\n",
       "\n",
       "    .dataframe thead th {\n",
       "        text-align: right;\n",
       "    }\n",
       "</style>\n",
       "<table border=\"1\" class=\"dataframe\">\n",
       "  <thead>\n",
       "    <tr style=\"text-align: right;\">\n",
       "      <th></th>\n",
       "      <th>notebook</th>\n",
       "      <th>num_code_cells</th>\n",
       "      <th>num_md_cells</th>\n",
       "      <th>num_assert_cells</th>\n",
       "      <th>code_cells_wo_assert</th>\n",
       "      <th>ratio</th>\n",
       "    </tr>\n",
       "  </thead>\n",
       "  <tbody>\n",
       "    <tr>\n",
       "      <th>136</th>\n",
       "      <td>data/mondal2023cell2doc/Cell2Doc-Artifacts/Rep...</td>\n",
       "      <td>1</td>\n",
       "      <td>1</td>\n",
       "      <td>1</td>\n",
       "      <td>0</td>\n",
       "      <td>0.0</td>\n",
       "    </tr>\n",
       "    <tr>\n",
       "      <th>332</th>\n",
       "      <td>data/mondal2023cell2doc/Cell2Doc-Artifacts/Rep...</td>\n",
       "      <td>1</td>\n",
       "      <td>2</td>\n",
       "      <td>1</td>\n",
       "      <td>0</td>\n",
       "      <td>0.0</td>\n",
       "    </tr>\n",
       "    <tr>\n",
       "      <th>463</th>\n",
       "      <td>data/mondal2023cell2doc/Cell2Doc-Artifacts/Rep...</td>\n",
       "      <td>3</td>\n",
       "      <td>1</td>\n",
       "      <td>2</td>\n",
       "      <td>1</td>\n",
       "      <td>0.5</td>\n",
       "    </tr>\n",
       "    <tr>\n",
       "      <th>657</th>\n",
       "      <td>data/mondal2023cell2doc/Cell2Doc-Artifacts/Rep...</td>\n",
       "      <td>1</td>\n",
       "      <td>1</td>\n",
       "      <td>1</td>\n",
       "      <td>0</td>\n",
       "      <td>0.0</td>\n",
       "    </tr>\n",
       "    <tr>\n",
       "      <th>853</th>\n",
       "      <td>data/mondal2023cell2doc/Cell2Doc-Artifacts/Rep...</td>\n",
       "      <td>1</td>\n",
       "      <td>2</td>\n",
       "      <td>1</td>\n",
       "      <td>0</td>\n",
       "      <td>0.0</td>\n",
       "    </tr>\n",
       "    <tr>\n",
       "      <th>984</th>\n",
       "      <td>data/mondal2023cell2doc/Cell2Doc-Artifacts/Rep...</td>\n",
       "      <td>3</td>\n",
       "      <td>1</td>\n",
       "      <td>2</td>\n",
       "      <td>1</td>\n",
       "      <td>0.5</td>\n",
       "    </tr>\n",
       "  </tbody>\n",
       "</table>\n",
       "</div>"
      ],
      "text/plain": [
       "                                              notebook  num_code_cells  \\\n",
       "136  data/mondal2023cell2doc/Cell2Doc-Artifacts/Rep...               1   \n",
       "332  data/mondal2023cell2doc/Cell2Doc-Artifacts/Rep...               1   \n",
       "463  data/mondal2023cell2doc/Cell2Doc-Artifacts/Rep...               3   \n",
       "657  data/mondal2023cell2doc/Cell2Doc-Artifacts/Rep...               1   \n",
       "853  data/mondal2023cell2doc/Cell2Doc-Artifacts/Rep...               1   \n",
       "984  data/mondal2023cell2doc/Cell2Doc-Artifacts/Rep...               3   \n",
       "\n",
       "     num_md_cells  num_assert_cells  code_cells_wo_assert  ratio  \n",
       "136             1                 1                     0    0.0  \n",
       "332             2                 1                     0    0.0  \n",
       "463             1                 2                     1    0.5  \n",
       "657             1                 1                     0    0.0  \n",
       "853             2                 1                     0    0.0  \n",
       "984             1                 2                     1    0.5  "
      ]
     },
     "execution_count": 13,
     "metadata": {},
     "output_type": "execute_result"
    }
   ],
   "source": [
    "stats.loc[stats[\"ratio\"] < 1]"
   ]
  },
  {
   "cell_type": "markdown",
   "metadata": {},
   "source": [
    "## Anatomy of assert cells (content)\n",
    "\n",
    "In this section we analyse the contents of assert cells.\n",
    "\n",
    "In the data collection phase (see bin/data-collection.py script for more details) we flagged any code cells that contain the `assert` keyword. This may lead to false positive results (for instance, the keyword appears in a comment or in the name of a function call).\n",
    "\n",
    "Thus the first order of business is to remove such false positive results from our analysis. We can do this by constructing an AST (Abstract Syntax Tree) for the code cells. Actual `assert` statements will then appear as an `ast.Assert` node in the tree.\n",
    "\n",
    "We are interested in the following:\n",
    "1. How many number of top-level nodes are present in assert cells?\n",
    "1. How many assert statements are typically present in the code cells?\n",
    "2. Are assert statements usually written as a standalone test? Or are they defined within function calls?\n",
    "3. Are assert statements defined in dedicated \"test\" cells? Or are they mixed in with code performing other tasks?"
   ]
  },
  {
   "cell_type": "markdown",
   "metadata": {},
   "source": [
    "Lets examine a single row in more detail."
   ]
  },
  {
   "cell_type": "code",
   "execution_count": 14,
   "metadata": {},
   "outputs": [
    {
     "name": "stdout",
     "output_type": "stream",
     "text": [
      "test_blocks = [\n",
      "    list(range(0, 100000)) + list(range(300000, 400000)) + list(range(800000, 900000)) + list(range(1000000, 2000000)),\n",
      "    list(range(400000, 500000)),\n",
      "    list(range(100000, 200000)) + list(range(900000, 1000000)),\n",
      "    list(range(200000, 300000)) + list(range(600000, 700000)),\n",
      "    list(range(500000, 600000)) + list(range(700000, 800000))\n",
      "]\n",
      "\n",
      "# Sanity check\n",
      "assert sum([len(x) for x in test_blocks]) == 2000000\n"
     ]
    }
   ],
   "source": [
    "example = assert_content.iloc[0][\"source\"]\n",
    "print(example)"
   ]
  },
  {
   "cell_type": "code",
   "execution_count": 15,
   "metadata": {},
   "outputs": [
    {
     "name": "stdout",
     "output_type": "stream",
     "text": [
      "Module(\n",
      " body=[\n",
      "  Assign(\n",
      "   targets=[\n",
      "    Name(id='test_blocks', ctx=Store())],\n",
      "   value=List(\n",
      "    elts=[\n",
      "     BinOp(\n",
      "      left=BinOp(\n",
      "       left=BinOp(\n",
      "        left=Call(\n",
      "         func=Name(id='list', ctx=Load()),\n",
      "         args=[\n",
      "          Call(\n",
      "           func=Name(id='range', ctx=Load()),\n",
      "           args=[\n",
      "            Constant(value=0),\n",
      "            Constant(value=100000)],\n",
      "           keywords=[])],\n",
      "         keywords=[]),\n",
      "        op=Add(),\n",
      "        right=Call(\n",
      "         func=Name(id='list', ctx=Load()),\n",
      "         args=[\n",
      "          Call(\n",
      "           func=Name(id='range', ctx=Load()),\n",
      "           args=[\n",
      "            Constant(value=300000),\n",
      "            Constant(value=400000)],\n",
      "           keywords=[])],\n",
      "         keywords=[])),\n",
      "       op=Add(),\n",
      "       right=Call(\n",
      "        func=Name(id='list', ctx=Load()),\n",
      "        args=[\n",
      "         Call(\n",
      "          func=Name(id='range', ctx=Load()),\n",
      "          args=[\n",
      "           Constant(value=800000),\n",
      "           Constant(value=900000)],\n",
      "          keywords=[])],\n",
      "        keywords=[])),\n",
      "      op=Add(),\n",
      "      right=Call(\n",
      "       func=Name(id='list', ctx=Load()),\n",
      "       args=[\n",
      "        Call(\n",
      "         func=Name(id='range', ctx=Load()),\n",
      "         args=[\n",
      "          Constant(value=1000000),\n",
      "          Constant(value=2000000)],\n",
      "         keywords=[])],\n",
      "       keywords=[])),\n",
      "     Call(\n",
      "      func=Name(id='list', ctx=Load()),\n",
      "      args=[\n",
      "       Call(\n",
      "        func=Name(id='range', ctx=Load()),\n",
      "        args=[\n",
      "         Constant(value=400000),\n",
      "         Constant(value=500000)],\n",
      "        keywords=[])],\n",
      "      keywords=[]),\n",
      "     BinOp(\n",
      "      left=Call(\n",
      "       func=Name(id='list', ctx=Load()),\n",
      "       args=[\n",
      "        Call(\n",
      "         func=Name(id='range', ctx=Load()),\n",
      "         args=[\n",
      "          Constant(value=100000),\n",
      "          Constant(value=200000)],\n",
      "         keywords=[])],\n",
      "       keywords=[]),\n",
      "      op=Add(),\n",
      "      right=Call(\n",
      "       func=Name(id='list', ctx=Load()),\n",
      "       args=[\n",
      "        Call(\n",
      "         func=Name(id='range', ctx=Load()),\n",
      "         args=[\n",
      "          Constant(value=900000),\n",
      "          Constant(value=1000000)],\n",
      "         keywords=[])],\n",
      "       keywords=[])),\n",
      "     BinOp(\n",
      "      left=Call(\n",
      "       func=Name(id='list', ctx=Load()),\n",
      "       args=[\n",
      "        Call(\n",
      "         func=Name(id='range', ctx=Load()),\n",
      "         args=[\n",
      "          Constant(value=200000),\n",
      "          Constant(value=300000)],\n",
      "         keywords=[])],\n",
      "       keywords=[]),\n",
      "      op=Add(),\n",
      "      right=Call(\n",
      "       func=Name(id='list', ctx=Load()),\n",
      "       args=[\n",
      "        Call(\n",
      "         func=Name(id='range', ctx=Load()),\n",
      "         args=[\n",
      "          Constant(value=600000),\n",
      "          Constant(value=700000)],\n",
      "         keywords=[])],\n",
      "       keywords=[])),\n",
      "     BinOp(\n",
      "      left=Call(\n",
      "       func=Name(id='list', ctx=Load()),\n",
      "       args=[\n",
      "        Call(\n",
      "         func=Name(id='range', ctx=Load()),\n",
      "         args=[\n",
      "          Constant(value=500000),\n",
      "          Constant(value=600000)],\n",
      "         keywords=[])],\n",
      "       keywords=[]),\n",
      "      op=Add(),\n",
      "      right=Call(\n",
      "       func=Name(id='list', ctx=Load()),\n",
      "       args=[\n",
      "        Call(\n",
      "         func=Name(id='range', ctx=Load()),\n",
      "         args=[\n",
      "          Constant(value=700000),\n",
      "          Constant(value=800000)],\n",
      "         keywords=[])],\n",
      "       keywords=[]))],\n",
      "    ctx=Load())),\n",
      "  Assert(\n",
      "   test=Compare(\n",
      "    left=Call(\n",
      "     func=Name(id='sum', ctx=Load()),\n",
      "     args=[\n",
      "      ListComp(\n",
      "       elt=Call(\n",
      "        func=Name(id='len', ctx=Load()),\n",
      "        args=[\n",
      "         Name(id='x', ctx=Load())],\n",
      "        keywords=[]),\n",
      "       generators=[\n",
      "        comprehension(\n",
      "         target=Name(id='x', ctx=Store()),\n",
      "         iter=Name(id='test_blocks', ctx=Load()),\n",
      "         ifs=[],\n",
      "         is_async=0)])],\n",
      "     keywords=[]),\n",
      "    ops=[\n",
      "     Eq()],\n",
      "    comparators=[\n",
      "     Constant(value=2000000)]))],\n",
      " type_ignores=[])\n"
     ]
    }
   ],
   "source": [
    "tree = ast.parse(example)\n",
    "print(ast.dump(tree, indent=True))"
   ]
  },
  {
   "cell_type": "code",
   "execution_count": 16,
   "metadata": {},
   "outputs": [
    {
     "name": "stderr",
     "output_type": "stream",
     "text": [
      "<unknown>:13: SyntaxWarning: invalid escape sequence '\\s'\n",
      "<unknown>:415: SyntaxWarning: invalid escape sequence '\\['\n",
      "<unknown>:64: SyntaxWarning: invalid escape sequence '\\w'\n",
      "<unknown>:92: SyntaxWarning: invalid escape sequence '\\w'\n",
      "<unknown>:105: SyntaxWarning: invalid escape sequence '\\s'\n",
      "<unknown>:60: SyntaxWarning: invalid escape sequence '\\w'\n",
      "<unknown>:13: SyntaxWarning: invalid escape sequence '\\s'\n",
      "<unknown>:415: SyntaxWarning: invalid escape sequence '\\['\n",
      "<unknown>:64: SyntaxWarning: invalid escape sequence '\\w'\n",
      "<unknown>:92: SyntaxWarning: invalid escape sequence '\\w'\n"
     ]
    },
    {
     "data": {
      "text/plain": [
       "count    1388.000000\n",
       "mean        3.690922\n",
       "std         6.107686\n",
       "min         0.000000\n",
       "25%         1.000000\n",
       "50%         1.000000\n",
       "75%         4.000000\n",
       "max        91.000000\n",
       "Name: num_top_level_nodes, dtype: float64"
      ]
     },
     "execution_count": 16,
     "metadata": {},
     "output_type": "execute_result"
    }
   ],
   "source": [
    "def get_top_level_nodes(source: str):\n",
    "    nodes = [tree.__str__() for tree in ast.parse(source).body]\n",
    "    nodes = list(map(lambda x: x.split(\"object\")[0], nodes))\n",
    "    nodes = list(map(lambda x: x.replace(\"<ast.\", \"\").strip(), nodes))\n",
    "    return nodes\n",
    "\n",
    "\n",
    "assert_content.loc[:, \"top_level_nodes\"] = assert_content[\"source\"].apply(\n",
    "    get_top_level_nodes\n",
    ")\n",
    "assert_content.loc[:, \"num_top_level_nodes\"] = assert_content[\"top_level_nodes\"].apply(\n",
    "    lambda x: len(x)\n",
    ")\n",
    "assert_content[\"num_top_level_nodes\"].describe()"
   ]
  },
  {
   "cell_type": "code",
   "execution_count": 17,
   "metadata": {},
   "outputs": [
    {
     "name": "stdout",
     "output_type": "stream",
     "text": [
      "# def compare_dataframes(df1, df1_description, df2, df2_description):\n",
      "#     \"\"\"\n",
      "#     Analyze each feature and compare the difference between fraud and not fraud table\n",
      "    \n",
      "#     Args:\n",
      "#         train_fraud (pd.DataFrame): contains the fraudulent transactions\n",
      "#         train_not_fraud (pd.DataFrame): contains the non-fraud transactions\n",
      "        \n",
      "#     Returns:\n",
      "        \n",
      "#     \"\"\"\n",
      "    \n",
      "#     # features that look interesting from visual inspection\n",
      "#     features = ['TransactionDT', 'TransactionAmt', 'ProductCD', 'card1', 'card4', 'card6', \n",
      "#                 'P_emaildomain', 'R_emaildomain', 'id_29', 'id_30', 'id_31', 'DeviceType', 'DeviceInfo']\n",
      "    \n",
      "#     # Use this if analyzing ALL features of dataframes\n",
      "#     # make sure have same features in both dataframes\n",
      "#     #assert(sorted(train_not_fraud.columns) == sorted(train_fraud.columns))\n",
      "#     #features = train_fraud.columns \n",
      "    \n",
      "#     for feature in features:\n",
      "#         # numerical feature\n",
      "#         if df1[feature].dtype == 'int64' or df1[feature].dtype == 'float64':\n",
      "#             print('\\nNumerical feature (' + str(df1_description), ')\\tFeature name:', feature, '\\nmean:', get_mean_of_feature(df1, feature))\n",
      "#             print('\\nNumerical feature (' + str(df2_description), ')\\tFeature name:', feature, '\\nmean:', get_mean_of_feature(df2, feature))\n",
      "#         # categorical feature\n",
      "#         elif df1[feature].dtype == 'object': # object, a string\n",
      "#             print('\\nCategorical feature(' + str(df1_description), ')\\tFeature name:', feature, '\\nDistribution:\\n', get_categorical_distribution_of_feature(df1,feature)[:10])\n",
      "#             print('\\nCategorical feature(' + str(df2_description), ')\\tFeature name:', feature, '\\nDistribution:\\n', get_categorical_distribution_of_feature(df2,feature)[:10])\n"
     ]
    }
   ],
   "source": [
    "# investigate cells with no top level nodes\n",
    "print(assert_content.loc[assert_content[\"num_top_level_nodes\"] < 1].iloc[0].source)\n",
    "# NOTE: this cell contains valid code but its all commented out. Another thing to look out for during data-preprocessing step!"
   ]
  },
  {
   "cell_type": "code",
   "execution_count": 18,
   "metadata": {},
   "outputs": [
    {
     "data": {
      "text/plain": [
       "(1388, 5)"
      ]
     },
     "execution_count": 18,
     "metadata": {},
     "output_type": "execute_result"
    }
   ],
   "source": [
    "assert_content = assert_content.loc[~assert_content[\"num_top_level_nodes\"] < 1]\n",
    "assert_content.shape"
   ]
  },
  {
   "cell_type": "code",
   "execution_count": 19,
   "metadata": {},
   "outputs": [
    {
     "data": {
      "text/plain": [
       "<Axes: ylabel='num_top_level_nodes'>"
      ]
     },
     "execution_count": 19,
     "metadata": {},
     "output_type": "execute_result"
    },
    {
     "data": {
      "image/png": "[encoded data removed]",
      "text/plain": [
       "<Figure size 640x480 with 1 Axes>"
      ]
     },
     "metadata": {},
     "output_type": "display_data"
    }
   ],
   "source": [
    "sns.boxenplot(data=assert_content[\"num_top_level_nodes\"])"
   ]
  },
  {
   "cell_type": "markdown",
   "metadata": {},
   "source": [
    "We observe that typically assert cells contain 1-2 top level nodes.\n",
    "\n",
    "Next, lets check which top level nodes are most common."
   ]
  },
  {
   "cell_type": "code",
   "execution_count": 20,
   "metadata": {},
   "outputs": [
    {
     "data": {
      "text/plain": [
       "10                                     [Assign, Assert]\n",
       "45       [ClassDef, Assign, Assign, Assert, Expr, Expr]\n",
       "6     [Expr, Import, Import, Import, Import, Import,...\n",
       "7     [Expr, Import, Import, Import, ClassDef, Class...\n",
       "8            [Import, Import, FunctionDef, FunctionDef]\n",
       "Name: top_level_nodes, dtype: object"
      ]
     },
     "execution_count": 20,
     "metadata": {},
     "output_type": "execute_result"
    }
   ],
   "source": [
    "assert_content[\"top_level_nodes\"].head()"
   ]
  },
  {
   "cell_type": "code",
   "execution_count": 21,
   "metadata": {},
   "outputs": [],
   "source": [
    "top_nodes = assert_content[\"top_level_nodes\"].explode()"
   ]
  },
  {
   "cell_type": "code",
   "execution_count": 22,
   "metadata": {},
   "outputs": [
    {
     "data": {
      "text/plain": [
       "top_level_nodes\n",
       "Assign         1235\n",
       "FunctionDef    1216\n",
       "Expr            938\n",
       "ClassDef        484\n",
       "ImportFrom      447\n",
       "Import          413\n",
       "Assert          273\n",
       "For              60\n",
       "If               30\n",
       "Delete           11\n",
       "With              6\n",
       "Try               5\n",
       "AnnAssign         4\n",
       "While             1\n",
       "Name: count, dtype: int64"
      ]
     },
     "execution_count": 22,
     "metadata": {},
     "output_type": "execute_result"
    }
   ],
   "source": [
    "top_nodes.value_counts().sort_values(ascending=False)"
   ]
  },
  {
   "cell_type": "code",
   "execution_count": 23,
   "metadata": {},
   "outputs": [
    {
     "data": {
      "image/png": "[encoded data removed]",
      "text/plain": [
       "<Figure size 640x480 with 1 Axes>"
      ]
     },
     "metadata": {},
     "output_type": "display_data"
    }
   ],
   "source": [
    "ax = sns.barplot(data=top_nodes.value_counts().sort_values(ascending=False), errorbar=None, orient=\"h\")"
   ]
  },
  {
   "cell_type": "markdown",
   "metadata": {},
   "source": [
    "Some reasoning:\n",
    "Our data consists only of code cells where the keyword `assert` appeared somewhere. There are several possibilities here:\n",
    "1. we have a assertion defined as a top level node (standalone assert statement)\n",
    "2. the assertion is defined inside a function definition (not top level)\n",
    "3. the keyword `assert` appears in the name of a function/variable definition\n",
    "4. the keyword `assert` appears in a comment\n",
    "\n",
    "We can dig deeper into the location of the assertions next. Lets separate our asserts into two buckets: top-level and not top-level.\n",
    "\n",
    "The `ast` module ignores comments so if we have cells with no `Assert` nodes (top-level or otherwise), we then know that these cells contained a comment with the `assert` keyword.\n"
   ]
  },
  {
   "cell_type": "code",
   "execution_count": 24,
   "metadata": {},
   "outputs": [
    {
     "data": {
      "text/plain": [
       "(168, 5)"
      ]
     },
     "execution_count": 24,
     "metadata": {},
     "output_type": "execute_result"
    }
   ],
   "source": [
    "has_top_level_assert = assert_content.loc[assert_content[\"top_level_nodes\"].apply(lambda x: \"Assert\" in x)]\n",
    "has_top_level_assert.shape"
   ]
  },
  {
   "cell_type": "markdown",
   "metadata": {},
   "source": [
    "Lets investigate the proportion of `Assert` vs non-`Assert` nodes in cells where a top level `Assert` not was present. I want to see if developers tend to group such assertions together in a single cell."
   ]
  },
  {
   "cell_type": "code",
   "execution_count": 25,
   "metadata": {},
   "outputs": [
    {
     "name": "stderr",
     "output_type": "stream",
     "text": [
      "/var/folders/3_/dh2k952n2rld3_w3r369mln80000gn/T/ipykernel_64762/914937091.py:6: SettingWithCopyWarning: \n",
      "A value is trying to be set on a copy of a slice from a DataFrame.\n",
      "Try using .loc[row_indexer,col_indexer] = value instead\n",
      "\n",
      "See the caveats in the documentation: https://pandas.pydata.org/pandas-docs/stable/user_guide/indexing.html#returning-a-view-versus-a-copy\n",
      "  has_top_level_assert.loc[:, \"num_top_level_assert_nodes\"] = has_top_level_assert[\"top_level_nodes\"].apply(count_assert_nodes)\n",
      "/var/folders/3_/dh2k952n2rld3_w3r369mln80000gn/T/ipykernel_64762/914937091.py:7: SettingWithCopyWarning: \n",
      "A value is trying to be set on a copy of a slice from a DataFrame.\n",
      "Try using .loc[row_indexer,col_indexer] = value instead\n",
      "\n",
      "See the caveats in the documentation: https://pandas.pydata.org/pandas-docs/stable/user_guide/indexing.html#returning-a-view-versus-a-copy\n",
      "  has_top_level_assert.loc[:, \"num_top_level_other_nodes\"] = has_top_level_assert[\"num_top_level_nodes\"] - has_top_level_assert[\"num_top_level_assert_nodes\"]\n"
     ]
    },
    {
     "data": {
      "text/html": [
       "<div>\n",
       "<style scoped>\n",
       "    .dataframe tbody tr th:only-of-type {\n",
       "        vertical-align: middle;\n",
       "    }\n",
       "\n",
       "    .dataframe tbody tr th {\n",
       "        vertical-align: top;\n",
       "    }\n",
       "\n",
       "    .dataframe thead th {\n",
       "        text-align: right;\n",
       "    }\n",
       "</style>\n",
       "<table border=\"1\" class=\"dataframe\">\n",
       "  <thead>\n",
       "    <tr style=\"text-align: right;\">\n",
       "      <th></th>\n",
       "      <th>cell_type</th>\n",
       "      <th>source</th>\n",
       "      <th>notebook</th>\n",
       "      <th>top_level_nodes</th>\n",
       "      <th>num_top_level_nodes</th>\n",
       "      <th>num_top_level_assert_nodes</th>\n",
       "      <th>num_top_level_other_nodes</th>\n",
       "    </tr>\n",
       "  </thead>\n",
       "  <tbody>\n",
       "    <tr>\n",
       "      <th>10</th>\n",
       "      <td>code</td>\n",
       "      <td>test_blocks = [\\n    list(range(0, 100000)) + ...</td>\n",
       "      <td>data/mondal2023cell2doc/Cell2Doc-Artifacts/Rep...</td>\n",
       "      <td>[Assign, Assert]</td>\n",
       "      <td>2</td>\n",
       "      <td>1</td>\n",
       "      <td>1</td>\n",
       "    </tr>\n",
       "    <tr>\n",
       "      <th>45</th>\n",
       "      <td>code</td>\n",
       "      <td>class InferenceConfig(FashionConfig):\\n    GPU...</td>\n",
       "      <td>data/mondal2023cell2doc/Cell2Doc-Artifacts/Rep...</td>\n",
       "      <td>[ClassDef, Assign, Assign, Assert, Expr, Expr]</td>\n",
       "      <td>6</td>\n",
       "      <td>1</td>\n",
       "      <td>5</td>\n",
       "    </tr>\n",
       "    <tr>\n",
       "      <th>54</th>\n",
       "      <td>code</td>\n",
       "      <td>y_train = (\\n    meta_train_df.groupby('id_mea...</td>\n",
       "      <td>data/mondal2023cell2doc/Cell2Doc-Artifacts/Rep...</td>\n",
       "      <td>[Assign, Assert]</td>\n",
       "      <td>2</td>\n",
       "      <td>1</td>\n",
       "      <td>1</td>\n",
       "    </tr>\n",
       "    <tr>\n",
       "      <th>105</th>\n",
       "      <td>code</td>\n",
       "      <td>assert np.all(submission['signal_id'].values =...</td>\n",
       "      <td>data/mondal2023cell2doc/Cell2Doc-Artifacts/Rep...</td>\n",
       "      <td>[Assert, Assign]</td>\n",
       "      <td>2</td>\n",
       "      <td>1</td>\n",
       "      <td>1</td>\n",
       "    </tr>\n",
       "    <tr>\n",
       "      <th>18</th>\n",
       "      <td>code</td>\n",
       "      <td>valid_preds = np.random.randint(4, size=valid_...</td>\n",
       "      <td>data/mondal2023cell2doc/Cell2Doc-Artifacts/Rep...</td>\n",
       "      <td>[Assign, Assign, Assign, Expr, Assert]</td>\n",
       "      <td>5</td>\n",
       "      <td>1</td>\n",
       "      <td>4</td>\n",
       "    </tr>\n",
       "  </tbody>\n",
       "</table>\n",
       "</div>"
      ],
      "text/plain": [
       "    cell_type                                             source  \\\n",
       "10       code  test_blocks = [\\n    list(range(0, 100000)) + ...   \n",
       "45       code  class InferenceConfig(FashionConfig):\\n    GPU...   \n",
       "54       code  y_train = (\\n    meta_train_df.groupby('id_mea...   \n",
       "105      code  assert np.all(submission['signal_id'].values =...   \n",
       "18       code  valid_preds = np.random.randint(4, size=valid_...   \n",
       "\n",
       "                                              notebook  \\\n",
       "10   data/mondal2023cell2doc/Cell2Doc-Artifacts/Rep...   \n",
       "45   data/mondal2023cell2doc/Cell2Doc-Artifacts/Rep...   \n",
       "54   data/mondal2023cell2doc/Cell2Doc-Artifacts/Rep...   \n",
       "105  data/mondal2023cell2doc/Cell2Doc-Artifacts/Rep...   \n",
       "18   data/mondal2023cell2doc/Cell2Doc-Artifacts/Rep...   \n",
       "\n",
       "                                    top_level_nodes  num_top_level_nodes  \\\n",
       "10                                 [Assign, Assert]                    2   \n",
       "45   [ClassDef, Assign, Assign, Assert, Expr, Expr]                    6   \n",
       "54                                 [Assign, Assert]                    2   \n",
       "105                                [Assert, Assign]                    2   \n",
       "18           [Assign, Assign, Assign, Expr, Assert]                    5   \n",
       "\n",
       "     num_top_level_assert_nodes  num_top_level_other_nodes  \n",
       "10                            1                          1  \n",
       "45                            1                          5  \n",
       "54                            1                          1  \n",
       "105                           1                          1  \n",
       "18                            1                          4  "
      ]
     },
     "execution_count": 25,
     "metadata": {},
     "output_type": "execute_result"
    }
   ],
   "source": [
    "def count_assert_nodes(nodes: list) -> int:\n",
    "    assert_nodes = list(filter(lambda x: x == \"Assert\", nodes))\n",
    "    return len(assert_nodes)\n",
    "\n",
    "\n",
    "has_top_level_assert.loc[:, \"num_top_level_assert_nodes\"] = has_top_level_assert[\"top_level_nodes\"].apply(count_assert_nodes)\n",
    "has_top_level_assert.loc[:, \"num_top_level_other_nodes\"] = has_top_level_assert[\"num_top_level_nodes\"] - has_top_level_assert[\"num_top_level_assert_nodes\"]\n",
    "has_top_level_assert.head()"
   ]
  },
  {
   "cell_type": "code",
   "execution_count": 26,
   "metadata": {},
   "outputs": [
    {
     "data": {
      "text/plain": [
       "<Axes: >"
      ]
     },
     "execution_count": 26,
     "metadata": {},
     "output_type": "execute_result"
    },
    {
     "data": {
      "image/png": "[encoded data removed]",
      "text/plain": [
       "<Figure size 640x480 with 1 Axes>"
      ]
     },
     "metadata": {},
     "output_type": "display_data"
    }
   ],
   "source": [
    "sns.boxenplot(data=has_top_level_assert.loc[:, [\"num_top_level_assert_nodes\", \"num_top_level_other_nodes\"]])\n"
   ]
  },
  {
   "cell_type": "markdown",
   "metadata": {},
   "source": [
    "For the current sample of notebooks, it does not appear that `assert` statements are written together in a dedicated cell. This however may change when we analyse the full dataset.\n",
    "\n",
    "Lets investigate the composition of top-level assert nodes next. Here we are interested in the following:\n",
    "+ What are the most commonly used operator in ML asserts?\n",
    "+ What are the most commonly occuring RHS in assertions\n",
    "    + if they are a constant, what is the most commonly used value used?\n",
    "+ Do the asserts contain a failure message?"
   ]
  },
  {
   "cell_type": "code",
   "execution_count": 27,
   "metadata": {},
   "outputs": [],
   "source": [
    "def get_assert_nodes(nodes: list):\n",
    "    return [n for n in nodes if isinstance(n, ast.Assert)]\n",
    "\n",
    "\n",
    "def get_compare_nodes(nodes: list[ast.Assert]):\n",
    "    return [n for node in nodes for n in ast.walk(node) if isinstance(n, ast.Compare)]\n",
    "\n",
    "\n",
    "def get_compare_ops_nodes(nodes: list[ast.Compare]):\n",
    "    return [node.ops for node in nodes]"
   ]
  },
  {
   "cell_type": "code",
   "execution_count": 28,
   "metadata": {},
   "outputs": [],
   "source": [
    "def get_assert_nodes(source: str):\n",
    "    return [node for node in ast.walk(ast.parse(source)) if isinstance(node, ast.Assert)]\n",
    "\n",
    "def get_node_name(node):\n",
    "    return node.__str__().split(\"object\")[0].replace(\"<ast.\", \"\").strip()\n",
    "\n",
    "\n",
    "top_assert_nodes = has_top_level_assert.loc[:, \"source\"].apply(get_assert_nodes)\n",
    "top_assert_nodes = top_assert_nodes.explode()\n",
    "top_tests = top_assert_nodes.apply(lambda x: x.test).apply(get_node_name)\n",
    "top_messages = top_assert_nodes.apply(lambda x: x.msg)"
   ]
  },
  {
   "cell_type": "code",
   "execution_count": 29,
   "metadata": {},
   "outputs": [
    {
     "data": {
      "text/plain": [
       "source\n",
       "Compare    216\n",
       "Call        43\n",
       "BoolOp      10\n",
       "UnaryOp      8\n",
       "Name: count, dtype: int64"
      ]
     },
     "execution_count": 29,
     "metadata": {},
     "output_type": "execute_result"
    }
   ],
   "source": [
    "top_tests.value_counts().sort_values(ascending=False)"
   ]
  },
  {
   "cell_type": "code",
   "execution_count": 30,
   "metadata": {},
   "outputs": [
    {
     "data": {
      "text/plain": [
       "<Axes: xlabel='source', ylabel='count'>"
      ]
     },
     "execution_count": 30,
     "metadata": {},
     "output_type": "execute_result"
    },
    {
     "data": {
      "image/png": "[encoded data removed]",
      "text/plain": [
       "<Figure size 640x480 with 1 Axes>"
      ]
     },
     "metadata": {},
     "output_type": "display_data"
    }
   ],
   "source": [
    "sns.barplot(data=top_tests.value_counts().sort_values(ascending=False))"
   ]
  },
  {
   "cell_type": "markdown",
   "metadata": {},
   "source": [
    "Majority of the assertions contain a comparison operator. This aligns with our prior observations from the ICST paper. Lets dig deeper into the `Compare` operator next."
   ]
  },
  {
   "cell_type": "code",
   "execution_count": 31,
   "metadata": {},
   "outputs": [
    {
     "data": {
      "text/html": [
       "<div>\n",
       "<style scoped>\n",
       "    .dataframe tbody tr th:only-of-type {\n",
       "        vertical-align: middle;\n",
       "    }\n",
       "\n",
       "    .dataframe tbody tr th {\n",
       "        vertical-align: top;\n",
       "    }\n",
       "\n",
       "    .dataframe thead th {\n",
       "        text-align: right;\n",
       "    }\n",
       "</style>\n",
       "<table border=\"1\" class=\"dataframe\">\n",
       "  <thead>\n",
       "    <tr style=\"text-align: right;\">\n",
       "      <th></th>\n",
       "      <th>left</th>\n",
       "      <th>ops</th>\n",
       "      <th>comparators</th>\n",
       "    </tr>\n",
       "  </thead>\n",
       "  <tbody>\n",
       "    <tr>\n",
       "      <th>0</th>\n",
       "      <td>&lt;ast.Call object at 0x12dcc8790&gt;</td>\n",
       "      <td>[&lt;ast.Eq object at 0x10fd4c850&gt;]</td>\n",
       "      <td>[&lt;ast.Constant object at 0x12dcc8e50&gt;]</td>\n",
       "    </tr>\n",
       "    <tr>\n",
       "      <th>1</th>\n",
       "      <td>&lt;ast.Name object at 0x12dcbdc90&gt;</td>\n",
       "      <td>[&lt;ast.NotEq object at 0x10fd4c8d0&gt;]</td>\n",
       "      <td>[&lt;ast.Constant object at 0x12dcbdd90&gt;]</td>\n",
       "    </tr>\n",
       "    <tr>\n",
       "      <th>2</th>\n",
       "      <td>&lt;ast.Subscript object at 0x12dcbc2d0&gt;</td>\n",
       "      <td>[&lt;ast.Eq object at 0x10fd4c850&gt;, &lt;ast.Eq objec...</td>\n",
       "      <td>[&lt;ast.Subscript object at 0x12dcbd510&gt;, &lt;ast.S...</td>\n",
       "    </tr>\n",
       "    <tr>\n",
       "      <th>3</th>\n",
       "      <td>&lt;ast.Attribute object at 0x12dcf13d0&gt;</td>\n",
       "      <td>[&lt;ast.Eq object at 0x10fd4c850&gt;]</td>\n",
       "      <td>[&lt;ast.Constant object at 0x12dcf1210&gt;]</td>\n",
       "    </tr>\n",
       "    <tr>\n",
       "      <th>4</th>\n",
       "      <td>&lt;ast.Subscript object at 0x12dcf10d0&gt;</td>\n",
       "      <td>[&lt;ast.Eq object at 0x10fd4c850&gt;]</td>\n",
       "      <td>[&lt;ast.Constant object at 0x12dcf0e10&gt;]</td>\n",
       "    </tr>\n",
       "  </tbody>\n",
       "</table>\n",
       "</div>"
      ],
      "text/plain": [
       "                                    left  \\\n",
       "0       <ast.Call object at 0x12dcc8790>   \n",
       "1       <ast.Name object at 0x12dcbdc90>   \n",
       "2  <ast.Subscript object at 0x12dcbc2d0>   \n",
       "3  <ast.Attribute object at 0x12dcf13d0>   \n",
       "4  <ast.Subscript object at 0x12dcf10d0>   \n",
       "\n",
       "                                                 ops  \\\n",
       "0                   [<ast.Eq object at 0x10fd4c850>]   \n",
       "1                [<ast.NotEq object at 0x10fd4c8d0>]   \n",
       "2  [<ast.Eq object at 0x10fd4c850>, <ast.Eq objec...   \n",
       "3                   [<ast.Eq object at 0x10fd4c850>]   \n",
       "4                   [<ast.Eq object at 0x10fd4c850>]   \n",
       "\n",
       "                                         comparators  \n",
       "0             [<ast.Constant object at 0x12dcc8e50>]  \n",
       "1             [<ast.Constant object at 0x12dcbdd90>]  \n",
       "2  [<ast.Subscript object at 0x12dcbd510>, <ast.S...  \n",
       "3             [<ast.Constant object at 0x12dcf1210>]  \n",
       "4             [<ast.Constant object at 0x12dcf0e10>]  "
      ]
     },
     "execution_count": 31,
     "metadata": {},
     "output_type": "execute_result"
    }
   ],
   "source": [
    "# NOTE: construct series of Compare nodes which were in the `test` attribute of top level `Assert` statements\n",
    "top_compare_nodes = pd.Series(\n",
    "    data=[\n",
    "        node.test\n",
    "        for _, node in top_assert_nodes.items()\n",
    "        if isinstance(node.test, ast.Compare)\n",
    "    ]\n",
    ")\n",
    "top_compare_content = pd.DataFrame(data={\n",
    "    \"left\": top_compare_nodes.apply(lambda x: x.left),\n",
    "    \"ops\": top_compare_nodes.apply(lambda x: x.ops),\n",
    "    \"comparators\": top_compare_nodes.apply(lambda x: x.comparators),\n",
    "})\n",
    "top_compare_content.head()"
   ]
  },
  {
   "cell_type": "markdown",
   "metadata": {},
   "source": [
    "Some things to look into:\n",
    "+ Do we have assertions where multiple ops are used? (eg. `assert a < 1 >= b`)\n",
    "+ What is the most common ops used?\n",
    "+ What is the most common comparator used?\n",
    "    + if its a `Constant`, what is the most common value?\n",
    "+ What is the most common left?"
   ]
  },
  {
   "cell_type": "code",
   "execution_count": 32,
   "metadata": {},
   "outputs": [
    {
     "data": {
      "text/plain": [
       "(7, 3)"
      ]
     },
     "execution_count": 32,
     "metadata": {},
     "output_type": "execute_result"
    }
   ],
   "source": [
    "top_compare_content.loc[top_compare_content[\"ops\"].apply(lambda x: len(x) >1)].shape"
   ]
  },
  {
   "cell_type": "markdown",
   "metadata": {},
   "source": [
    "We have 7 examples where more than 1 ops was used."
   ]
  },
  {
   "cell_type": "code",
   "execution_count": 47,
   "metadata": {},
   "outputs": [
    {
     "data": {
      "text/plain": [
       "ops\n",
       "Eq       201\n",
       "NotEq     14\n",
       "Lt         4\n",
       "Gt         2\n",
       "IsNot      1\n",
       "LtE        1\n",
       "In         1\n",
       "Name: count, dtype: int64"
      ]
     },
     "execution_count": 47,
     "metadata": {},
     "output_type": "execute_result"
    }
   ],
   "source": [
    "top_compare_content[\"ops\"].explode().apply(get_node_name).value_counts().sort_values(ascending=False)"
   ]
  },
  {
   "cell_type": "code",
   "execution_count": 35,
   "metadata": {},
   "outputs": [
    {
     "data": {
      "text/plain": [
       "<Axes: xlabel='ops', ylabel='count'>"
      ]
     },
     "execution_count": 35,
     "metadata": {},
     "output_type": "execute_result"
    },
    {
     "data": {
      "image/png": "[encoded data removed]",
      "text/plain": [
       "<Figure size 640x480 with 1 Axes>"
      ]
     },
     "metadata": {},
     "output_type": "display_data"
    }
   ],
   "source": [
    "sns.barplot(data=top_compare_content[\"ops\"].explode().apply(get_node_name).value_counts().sort_values(ascending=False))"
   ]
  },
  {
   "cell_type": "markdown",
   "metadata": {},
   "source": [
    "For the given sample, the assertions mostly use the `==` operator. Lets analyse the comparators next."
   ]
  },
  {
   "cell_type": "code",
   "execution_count": 49,
   "metadata": {},
   "outputs": [
    {
     "data": {
      "image/png": "[encoded data removed]",
      "text/plain": [
       "<Figure size 640x480 with 1 Axes>"
      ]
     },
     "metadata": {},
     "output_type": "display_data"
    }
   ],
   "source": [
    "ax = sns.barplot(data=top_compare_content[\"comparators\"].explode().apply(get_node_name).value_counts().sort_values(ascending=False))\n",
    "ax.tick_params(axis=\"x\", rotation=90)"
   ]
  },
  {
   "cell_type": "markdown",
   "metadata": {},
   "source": [
    "The RHS usually calls a function or contains a constant. Lets see the most frequently occuring constants and try to map them back to the assertions."
   ]
  },
  {
   "cell_type": "code",
   "execution_count": 64,
   "metadata": {},
   "outputs": [
    {
     "data": {
      "image/png": "[encoded data removed]",
      "text/plain": [
       "<Figure size 640x480 with 1 Axes>"
      ]
     },
     "metadata": {},
     "output_type": "display_data"
    }
   ],
   "source": [
    "constants  = pd.Series(\n",
    "    data=[\n",
    "        node.value\n",
    "        for _, node in top_compare_content[\"comparators\"].explode().items()\n",
    "        if isinstance(node, ast.Constant)\n",
    "    ]\n",
    ")\n",
    "constants = constants.dropna()\n",
    "ax = sns.barplot(data=constants.apply(lambda x: type(x)).value_counts().sort_values(ascending=False))\n",
    "ax.tick_params(axis=\"x\", rotation=90)"
   ]
  },
  {
   "cell_type": "code",
   "execution_count": 70,
   "metadata": {},
   "outputs": [
    {
     "data": {
      "text/plain": [
       "[('func', <ast.Name at 0x12dcc87d0>),\n",
       " ('args', [<ast.ListComp at 0x12dcc88d0>]),\n",
       " ('keywords', [])]"
      ]
     },
     "execution_count": 70,
     "metadata": {},
     "output_type": "execute_result"
    }
   ],
   "source": [
    "example = top_compare_nodes.iloc[0]\n",
    "example\n",
    "\n",
    "fields = [field for field in ast.iter_fields(example)]\n",
    "name, tree = fields[0]\n",
    "[field for field in ast.iter_fields(tree)]\n"
   ]
  },
  {
   "cell_type": "code",
   "execution_count": null,
   "metadata": {},
   "outputs": [],
   "source": []
  },
  {
   "cell_type": "code",
   "execution_count": null,
   "metadata": {},
   "outputs": [],
   "source": []
  },
  {
   "cell_type": "markdown",
   "metadata": {},
   "source": [
    "## Context of assert cells\n",
    "\n",
    "In this section we focus "
   ]
  }
 ],
 "metadata": {
  "kernelspec": {
   "display_name": "python-3.11",
   "language": "python",
   "name": "python3"
  },
  "language_info": {
   "codemirror_mode": {
    "name": "ipython",
    "version": 3
   },
   "file_extension": ".py",
   "mimetype": "text/x-python",
   "name": "python",
   "nbconvert_exporter": "python",
   "pygments_lexer": "ipython3",
   "version": "3.12.2"
  }
 },
 "nbformat": 4,
 "nbformat_minor": 2
}
